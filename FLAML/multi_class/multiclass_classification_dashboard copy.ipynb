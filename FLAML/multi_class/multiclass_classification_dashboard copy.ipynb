{
 "cells": [
  {
   "cell_type": "code",
   "execution_count": 8,
   "metadata": {},
   "outputs": [],
   "source": [
    "from explainerdashboard import ClassifierExplainer, ExplainerDashboard\n",
    "\n",
    "from sklearn.model_selection import train_test_split\n",
    "import pandas as pd\n",
    "from flaml import AutoML\n",
    "import numpy as np\n",
    "from sklearn.preprocessing import OrdinalEncoder"
   ]
  },
  {
   "cell_type": "code",
   "execution_count": 9,
   "metadata": {},
   "outputs": [
    {
     "name": "stdout",
     "output_type": "stream",
     "text": [
      "[flaml.automl.automl: 01-18 12:44:16] {2715} INFO - task = classification\n",
      "[flaml.automl.automl: 01-18 12:44:16] {2717} INFO - Data split method: stratified\n",
      "[flaml.automl.automl: 01-18 12:44:16] {2720} INFO - Evaluation method: cv\n",
      "[flaml.automl.automl: 01-18 12:44:16] {2847} INFO - Minimizing error metric: log_loss\n",
      "[flaml.automl.automl: 01-18 12:44:16] {2897} WARNING - No search budget is provided via time_budget or max_iter. Training only one model per estimator. Zero-shot AutoML is used for certain tasks and estimators. To tune hyperparameters for each estimator, please provide budget either via time_budget or max_iter.\n",
      "[flaml.automl.automl: 01-18 12:44:16] {2993} INFO - List of ML learners in AutoML Run: ['xgb_limitdepth', 'lgbm', 'rf', 'xgboost', 'extra_tree', 'lrl1']\n",
      "[flaml.automl.automl: 01-18 12:44:16] {3322} INFO - iteration 0, current learner xgb_limitdepth\n"
     ]
    },
    {
     "name": "stderr",
     "output_type": "stream",
     "text": [
      "c:\\Users\\alex\\Desktop\\Experiments\\FLAML\\.venv\\lib\\site-packages\\xgboost\\sklearn.py:1395: UserWarning: `use_label_encoder` is deprecated in 1.7.0.\n",
      "c:\\Users\\alex\\Desktop\\Experiments\\FLAML\\.venv\\lib\\site-packages\\xgboost\\sklearn.py:1395: UserWarning: `use_label_encoder` is deprecated in 1.7.0.\n",
      "c:\\Users\\alex\\Desktop\\Experiments\\FLAML\\.venv\\lib\\site-packages\\xgboost\\sklearn.py:1395: UserWarning: `use_label_encoder` is deprecated in 1.7.0.\n",
      "c:\\Users\\alex\\Desktop\\Experiments\\FLAML\\.venv\\lib\\site-packages\\xgboost\\sklearn.py:1395: UserWarning: `use_label_encoder` is deprecated in 1.7.0.\n",
      "c:\\Users\\alex\\Desktop\\Experiments\\FLAML\\.venv\\lib\\site-packages\\xgboost\\sklearn.py:1395: UserWarning: `use_label_encoder` is deprecated in 1.7.0.\n"
     ]
    },
    {
     "name": "stdout",
     "output_type": "stream",
     "text": [
      "[flaml.automl.automl: 01-18 12:46:05] {3460} INFO - Estimated sufficient time budget=10000s. Estimated necessary time budget=10s.\n",
      "[flaml.automl.automl: 01-18 12:46:05] {3507} INFO -  at 108.9s,\testimator xgb_limitdepth's best error=0.3053,\tbest estimator xgb_limitdepth's best error=0.3053\n",
      "[flaml.automl.automl: 01-18 12:46:05] {3322} INFO - iteration 1, current learner lgbm\n",
      "[flaml.automl.automl: 01-18 12:46:33] {3507} INFO -  at 137.4s,\testimator lgbm's best error=0.3047,\tbest estimator lgbm's best error=0.3047\n",
      "[flaml.automl.automl: 01-18 12:46:33] {3322} INFO - iteration 2, current learner rf\n",
      "[flaml.automl.automl: 01-18 12:46:48] {3507} INFO -  at 152.4s,\testimator rf's best error=0.2707,\tbest estimator rf's best error=0.2707\n",
      "[flaml.automl.automl: 01-18 12:46:48] {3322} INFO - iteration 3, current learner xgboost\n"
     ]
    },
    {
     "name": "stderr",
     "output_type": "stream",
     "text": [
      "c:\\Users\\alex\\Desktop\\Experiments\\FLAML\\.venv\\lib\\site-packages\\xgboost\\sklearn.py:1395: UserWarning: `use_label_encoder` is deprecated in 1.7.0.\n",
      "c:\\Users\\alex\\Desktop\\Experiments\\FLAML\\.venv\\lib\\site-packages\\xgboost\\sklearn.py:1395: UserWarning: `use_label_encoder` is deprecated in 1.7.0.\n",
      "c:\\Users\\alex\\Desktop\\Experiments\\FLAML\\.venv\\lib\\site-packages\\xgboost\\sklearn.py:1395: UserWarning: `use_label_encoder` is deprecated in 1.7.0.\n",
      "c:\\Users\\alex\\Desktop\\Experiments\\FLAML\\.venv\\lib\\site-packages\\xgboost\\sklearn.py:1395: UserWarning: `use_label_encoder` is deprecated in 1.7.0.\n",
      "c:\\Users\\alex\\Desktop\\Experiments\\FLAML\\.venv\\lib\\site-packages\\xgboost\\sklearn.py:1395: UserWarning: `use_label_encoder` is deprecated in 1.7.0.\n"
     ]
    },
    {
     "name": "stdout",
     "output_type": "stream",
     "text": [
      "[flaml.automl.automl: 01-18 12:47:15] {3507} INFO -  at 179.5s,\testimator xgboost's best error=0.2895,\tbest estimator rf's best error=0.2707\n",
      "[flaml.automl.automl: 01-18 12:47:15] {3322} INFO - iteration 4, current learner extra_tree\n",
      "[flaml.automl.automl: 01-18 12:47:18] {3507} INFO -  at 181.9s,\testimator extra_tree's best error=0.5683,\tbest estimator rf's best error=0.2707\n",
      "[flaml.automl.automl: 01-18 12:47:18] {3322} INFO - iteration 5, current learner lrl1\n"
     ]
    },
    {
     "name": "stderr",
     "output_type": "stream",
     "text": [
      "c:\\Users\\alex\\Desktop\\Experiments\\FLAML\\.venv\\lib\\site-packages\\sklearn\\linear_model\\_sag.py:350: ConvergenceWarning: The max_iter was reached which means the coef_ did not converge\n",
      "c:\\Users\\alex\\Desktop\\Experiments\\FLAML\\.venv\\lib\\site-packages\\sklearn\\linear_model\\_sag.py:350: ConvergenceWarning: The max_iter was reached which means the coef_ did not converge\n",
      "c:\\Users\\alex\\Desktop\\Experiments\\FLAML\\.venv\\lib\\site-packages\\sklearn\\linear_model\\_sag.py:350: ConvergenceWarning: The max_iter was reached which means the coef_ did not converge\n",
      "c:\\Users\\alex\\Desktop\\Experiments\\FLAML\\.venv\\lib\\site-packages\\sklearn\\linear_model\\_sag.py:350: ConvergenceWarning: The max_iter was reached which means the coef_ did not converge\n"
     ]
    },
    {
     "name": "stdout",
     "output_type": "stream",
     "text": [
      "[flaml.automl.automl: 01-18 12:47:18] {3507} INFO -  at 182.2s,\testimator lrl1's best error=2.3000,\tbest estimator rf's best error=0.2707\n"
     ]
    },
    {
     "name": "stderr",
     "output_type": "stream",
     "text": [
      "c:\\Users\\alex\\Desktop\\Experiments\\FLAML\\.venv\\lib\\site-packages\\sklearn\\linear_model\\_sag.py:350: ConvergenceWarning: The max_iter was reached which means the coef_ did not converge\n"
     ]
    },
    {
     "name": "stdout",
     "output_type": "stream",
     "text": [
      "[flaml.automl.automl: 01-18 12:47:18] {3771} INFO - retrain rf for 0.4s\n",
      "[flaml.automl.automl: 01-18 12:47:18] {3778} INFO - retrained model: RandomForestClassifier(criterion='entropy', max_features=0.4096631100883221,\n",
      "                       max_leaf_nodes=10210, n_estimators=70, n_jobs=-1,\n",
      "                       random_state=12032022)\n",
      "[flaml.automl.automl: 01-18 12:47:18] {3023} INFO - fit succeeded\n",
      "[flaml.automl.automl: 01-18 12:47:18] {3024} INFO - Time taken to find the best model: 152.38816809654236\n"
     ]
    }
   ],
   "source": [
    "data = pd.read_csv(\"./Pizza.csv\")\n",
    "enc = OrdinalEncoder(dtype=np.int32)\n",
    "enc.fit(data[[\"brand\"]])\n",
    "data[[\"brand\"]] = enc.transform(data[[\"brand\"]])\n",
    "X = data.drop([\"brand\"], axis=1)\n",
    "y = data[\"brand\"]\n",
    "X_train, X_test, y_train, y_test = train_test_split(X, y, test_size=0.05)\n",
    "\n",
    "automl = AutoML()\n",
    "automl.fit(X_train, y_train)"
   ]
  },
  {
   "cell_type": "code",
   "execution_count": 10,
   "metadata": {},
   "outputs": [
    {
     "name": "stdout",
     "output_type": "stream",
     "text": [
      "WARNING: Parameter shap='guess', but failed to guess the type of shap explainer to use for AutoML. Defaulting to the model agnostic shap.KernelExplainer (shap='kernel'). However this will be slow, so if your model is compatible with e.g. shap.TreeExplainer or shap.LinearExplainer then pass shap='tree' or shap='linear'!\n",
      "WARNING: For shap='kernel', shap interaction values can unfortunately not be calculated!\n",
      "Note: shap values for shap='kernel' normally get calculated against X_background, but paramater X_background=None, so setting X_background=shap.sample(X, 50)...\n",
      "Generating self.shap_explainer = shap.KernelExplainer(model, X, link='identity')\n",
      "Building ExplainerDashboard..\n",
      "Detected notebook environment, consider setting mode='external', mode='inline' or mode='jupyterlab' to keep the notebook interactive while the dashboard is running...\n",
      "For this type of model and model_output interactions don't work, so setting shap_interaction=False...\n",
      "The explainer object has no decision_trees property. so setting decision_trees=False...\n",
      "Generating layout...\n",
      "Calculating shap values...\n"
     ]
    },
    {
     "name": "stderr",
     "output_type": "stream",
     "text": [
      "100%|██████████| 15/15 [00:02<00:00,  5.91it/s]\n"
     ]
    },
    {
     "name": "stdout",
     "output_type": "stream",
     "text": [
      "Calculating prediction probabilities...\n",
      "Calculating metrics...\n"
     ]
    },
    {
     "name": "stderr",
     "output_type": "stream",
     "text": [
      "c:\\Users\\alex\\Desktop\\Experiments\\FLAML\\.venv\\lib\\site-packages\\sklearn\\metrics\\_classification.py:1344: UndefinedMetricWarning:\n",
      "\n",
      "Recall is ill-defined and being set to 0.0 due to no true samples. Use `zero_division` parameter to control this behavior.\n",
      "\n"
     ]
    },
    {
     "ename": "ValueError",
     "evalue": "Only one class present in y_true. ROC AUC score is not defined in that case.",
     "output_type": "error",
     "traceback": [
      "\u001b[1;31m---------------------------------------------------------------------------\u001b[0m",
      "\u001b[1;31mValueError\u001b[0m                                Traceback (most recent call last)",
      "Cell \u001b[1;32mIn[10], line 1\u001b[0m\n\u001b[1;32m----> 1\u001b[0m dashboard \u001b[38;5;241m=\u001b[39m \u001b[43mExplainerDashboard\u001b[49m\u001b[43m(\u001b[49m\u001b[43mClassifierExplainer\u001b[49m\u001b[43m(\u001b[49m\u001b[43mautoml\u001b[49m\u001b[43m,\u001b[49m\u001b[43m \u001b[49m\u001b[43mX_test\u001b[49m\u001b[43m,\u001b[49m\u001b[43m \u001b[49m\u001b[43my_test\u001b[49m\u001b[43m,\u001b[49m\u001b[43m \u001b[49m\u001b[43mlabels\u001b[49m\u001b[38;5;241;43m=\u001b[39;49m\u001b[43menc\u001b[49m\u001b[38;5;241;43m.\u001b[39;49m\u001b[43mcategories_\u001b[49m\u001b[43m[\u001b[49m\u001b[38;5;241;43m0\u001b[39;49m\u001b[43m]\u001b[49m\u001b[38;5;241;43m.\u001b[39;49m\u001b[43mtolist\u001b[49m\u001b[43m(\u001b[49m\u001b[43m)\u001b[49m\u001b[43m)\u001b[49m\u001b[43m)\u001b[49m\n",
      "File \u001b[1;32mc:\\Users\\alex\\Desktop\\Experiments\\FLAML\\.venv\\lib\\site-packages\\explainerdashboard\\dashboards.py:591\u001b[0m, in \u001b[0;36mExplainerDashboard.__init__\u001b[1;34m(self, explainer, tabs, title, name, description, simple, hide_header, header_hide_title, header_hide_selector, header_hide_download, hide_poweredby, block_selector_callbacks, pos_label, fluid, mode, width, height, bootstrap, external_stylesheets, server, url_base_pathname, routes_pathname_prefix, requests_pathname_prefix, responsive, logins, port, importances, model_summary, contributions, whatif, shap_dependence, shap_interaction, decision_trees, **kwargs)\u001b[0m\n\u001b[0;32m    589\u001b[0m \u001b[39mif\u001b[39;00m \u001b[39misinstance\u001b[39m(tabs, \u001b[39mlist\u001b[39m):\n\u001b[0;32m    590\u001b[0m     tabs \u001b[39m=\u001b[39m [\u001b[39mself\u001b[39m\u001b[39m.\u001b[39m_convert_str_tabs(tab) \u001b[39mfor\u001b[39;00m tab \u001b[39min\u001b[39;00m tabs]\n\u001b[1;32m--> 591\u001b[0m     \u001b[39mself\u001b[39m\u001b[39m.\u001b[39mexplainer_layout \u001b[39m=\u001b[39m ExplainerTabsLayout(explainer, tabs, title, \n\u001b[0;32m    592\u001b[0m                     description\u001b[39m=\u001b[39m\u001b[39mself\u001b[39m\u001b[39m.\u001b[39mdescription,\n\u001b[0;32m    593\u001b[0m                     \u001b[39m*\u001b[39m\u001b[39m*\u001b[39mupdate_kwargs(kwargs, \n\u001b[0;32m    594\u001b[0m                         header_hide_title\u001b[39m=\u001b[39m\u001b[39mself\u001b[39m\u001b[39m.\u001b[39mheader_hide_title, \n\u001b[0;32m    595\u001b[0m                         header_hide_selector\u001b[39m=\u001b[39m\u001b[39mself\u001b[39m\u001b[39m.\u001b[39mheader_hide_selector, \n\u001b[0;32m    596\u001b[0m                         header_hide_download\u001b[39m=\u001b[39m\u001b[39mself\u001b[39m\u001b[39m.\u001b[39mheader_hide_download, \n\u001b[0;32m    597\u001b[0m                         hide_poweredby\u001b[39m=\u001b[39m\u001b[39mself\u001b[39m\u001b[39m.\u001b[39mhide_poweredby,\n\u001b[0;32m    598\u001b[0m                         block_selector_callbacks\u001b[39m=\u001b[39m\u001b[39mself\u001b[39m\u001b[39m.\u001b[39mblock_selector_callbacks,\n\u001b[0;32m    599\u001b[0m                         pos_label\u001b[39m=\u001b[39m\u001b[39mself\u001b[39m\u001b[39m.\u001b[39mpos_label,\n\u001b[0;32m    600\u001b[0m                         fluid\u001b[39m=\u001b[39mfluid))\n\u001b[0;32m    601\u001b[0m \u001b[39melse\u001b[39;00m:\n\u001b[0;32m    602\u001b[0m     tabs \u001b[39m=\u001b[39m \u001b[39mself\u001b[39m\u001b[39m.\u001b[39m_convert_str_tabs(tabs)\n",
      "File \u001b[1;32mc:\\Users\\alex\\Desktop\\Experiments\\FLAML\\.venv\\lib\\site-packages\\explainerdashboard\\dashboards.py:108\u001b[0m, in \u001b[0;36mExplainerTabsLayout.__init__\u001b[1;34m(self, explainer, tabs, title, name, description, header_hide_title, header_hide_selector, header_hide_download, hide_poweredby, block_selector_callbacks, pos_label, fluid, **kwargs)\u001b[0m\n\u001b[0;32m    104\u001b[0m \u001b[39massert\u001b[39;00m \u001b[39mlen\u001b[39m(\u001b[39mself\u001b[39m\u001b[39m.\u001b[39mtabs) \u001b[39m>\u001b[39m \u001b[39m0\u001b[39m, \u001b[39m'\u001b[39m\u001b[39mWhen passing a list to tabs, need to pass at least one valid tab!\u001b[39m\u001b[39m'\u001b[39m\n\u001b[0;32m    106\u001b[0m \u001b[39mself\u001b[39m\u001b[39m.\u001b[39mregister_components(\u001b[39m*\u001b[39m\u001b[39mself\u001b[39m\u001b[39m.\u001b[39mtabs)\n\u001b[1;32m--> 108\u001b[0m \u001b[39mself\u001b[39m\u001b[39m.\u001b[39mdownloadable_tabs \u001b[39m=\u001b[39m [tab \u001b[39mfor\u001b[39;00m tab \u001b[39min\u001b[39;00m \u001b[39mself\u001b[39m\u001b[39m.\u001b[39mtabs \u001b[39mif\u001b[39;00m tab\u001b[39m.\u001b[39mto_html(add_header\u001b[39m=\u001b[39m\u001b[39mFalse\u001b[39;00m) \u001b[39m!=\u001b[39m \u001b[39m\"\u001b[39m\u001b[39m<div></div>\u001b[39m\u001b[39m\"\u001b[39m]\n\u001b[0;32m    109\u001b[0m \u001b[39mif\u001b[39;00m \u001b[39mnot\u001b[39;00m \u001b[39mself\u001b[39m\u001b[39m.\u001b[39mdownloadable_tabs:\n\u001b[0;32m    110\u001b[0m     \u001b[39mself\u001b[39m\u001b[39m.\u001b[39mheader_hide_download \u001b[39m=\u001b[39m \u001b[39mTrue\u001b[39;00m\n",
      "File \u001b[1;32mc:\\Users\\alex\\Desktop\\Experiments\\FLAML\\.venv\\lib\\site-packages\\explainerdashboard\\dashboards.py:108\u001b[0m, in \u001b[0;36m<listcomp>\u001b[1;34m(.0)\u001b[0m\n\u001b[0;32m    104\u001b[0m \u001b[39massert\u001b[39;00m \u001b[39mlen\u001b[39m(\u001b[39mself\u001b[39m\u001b[39m.\u001b[39mtabs) \u001b[39m>\u001b[39m \u001b[39m0\u001b[39m, \u001b[39m'\u001b[39m\u001b[39mWhen passing a list to tabs, need to pass at least one valid tab!\u001b[39m\u001b[39m'\u001b[39m\n\u001b[0;32m    106\u001b[0m \u001b[39mself\u001b[39m\u001b[39m.\u001b[39mregister_components(\u001b[39m*\u001b[39m\u001b[39mself\u001b[39m\u001b[39m.\u001b[39mtabs)\n\u001b[1;32m--> 108\u001b[0m \u001b[39mself\u001b[39m\u001b[39m.\u001b[39mdownloadable_tabs \u001b[39m=\u001b[39m [tab \u001b[39mfor\u001b[39;00m tab \u001b[39min\u001b[39;00m \u001b[39mself\u001b[39m\u001b[39m.\u001b[39mtabs \u001b[39mif\u001b[39;00m tab\u001b[39m.\u001b[39;49mto_html(add_header\u001b[39m=\u001b[39;49m\u001b[39mFalse\u001b[39;49;00m) \u001b[39m!=\u001b[39m \u001b[39m\"\u001b[39m\u001b[39m<div></div>\u001b[39m\u001b[39m\"\u001b[39m]\n\u001b[0;32m    109\u001b[0m \u001b[39mif\u001b[39;00m \u001b[39mnot\u001b[39;00m \u001b[39mself\u001b[39m\u001b[39m.\u001b[39mdownloadable_tabs:\n\u001b[0;32m    110\u001b[0m     \u001b[39mself\u001b[39m\u001b[39m.\u001b[39mheader_hide_download \u001b[39m=\u001b[39m \u001b[39mTrue\u001b[39;00m\n",
      "File \u001b[1;32mc:\\Users\\alex\\Desktop\\Experiments\\FLAML\\.venv\\lib\\site-packages\\explainerdashboard\\dashboard_components\\composites.py:197\u001b[0m, in \u001b[0;36mClassifierModelStatsComposite.to_html\u001b[1;34m(self, state_dict, add_header)\u001b[0m\n\u001b[0;32m    194\u001b[0m \u001b[39mdef\u001b[39;00m \u001b[39mto_html\u001b[39m(\u001b[39mself\u001b[39m, state_dict\u001b[39m=\u001b[39m\u001b[39mNone\u001b[39;00m, add_header\u001b[39m=\u001b[39m\u001b[39mTrue\u001b[39;00m):\n\u001b[0;32m    195\u001b[0m     html \u001b[39m=\u001b[39m to_html\u001b[39m.\u001b[39mhide(to_html\u001b[39m.\u001b[39mtitle(\u001b[39mself\u001b[39m\u001b[39m.\u001b[39mtitle), hide\u001b[39m=\u001b[39m\u001b[39mself\u001b[39m\u001b[39m.\u001b[39mhide_title)\n\u001b[0;32m    196\u001b[0m     html \u001b[39m+\u001b[39m\u001b[39m=\u001b[39m to_html\u001b[39m.\u001b[39mcard_rows(\n\u001b[1;32m--> 197\u001b[0m         [to_html\u001b[39m.\u001b[39mhide(\u001b[39mself\u001b[39;49m\u001b[39m.\u001b[39;49msummary\u001b[39m.\u001b[39;49mto_html(state_dict, add_header\u001b[39m=\u001b[39;49m\u001b[39mFalse\u001b[39;49;00m), hide\u001b[39m=\u001b[39m\u001b[39mself\u001b[39m\u001b[39m.\u001b[39mhide_modelsummary),\n\u001b[0;32m    198\u001b[0m          to_html\u001b[39m.\u001b[39mhide(\u001b[39mself\u001b[39m\u001b[39m.\u001b[39mconfusionmatrix\u001b[39m.\u001b[39mto_html(state_dict, add_header\u001b[39m=\u001b[39m\u001b[39mFalse\u001b[39;00m), hide\u001b[39m=\u001b[39m\u001b[39mself\u001b[39m\u001b[39m.\u001b[39mhide_confusionmatrix)],\n\u001b[0;32m    199\u001b[0m         [to_html\u001b[39m.\u001b[39mhide(\u001b[39mself\u001b[39m\u001b[39m.\u001b[39mprecision\u001b[39m.\u001b[39mto_html(state_dict, add_header\u001b[39m=\u001b[39m\u001b[39mFalse\u001b[39;00m), hide\u001b[39m=\u001b[39m\u001b[39mself\u001b[39m\u001b[39m.\u001b[39mhide_precision), \n\u001b[0;32m    200\u001b[0m          to_html\u001b[39m.\u001b[39mhide(\u001b[39mself\u001b[39m\u001b[39m.\u001b[39mclassification\u001b[39m.\u001b[39mto_html(state_dict, add_header\u001b[39m=\u001b[39m\u001b[39mFalse\u001b[39;00m), hide\u001b[39m=\u001b[39m\u001b[39mself\u001b[39m\u001b[39m.\u001b[39mhide_classification)],\n\u001b[0;32m    201\u001b[0m         [to_html\u001b[39m.\u001b[39mhide(\u001b[39mself\u001b[39m\u001b[39m.\u001b[39mrocauc\u001b[39m.\u001b[39mto_html(state_dict, add_header\u001b[39m=\u001b[39m\u001b[39mFalse\u001b[39;00m), hide\u001b[39m=\u001b[39m\u001b[39mself\u001b[39m\u001b[39m.\u001b[39mhide_rocauc),\n\u001b[0;32m    202\u001b[0m          to_html\u001b[39m.\u001b[39mhide(\u001b[39mself\u001b[39m\u001b[39m.\u001b[39mprauc\u001b[39m.\u001b[39mto_html(state_dict, add_header\u001b[39m=\u001b[39m\u001b[39mFalse\u001b[39;00m), hide\u001b[39m=\u001b[39m\u001b[39mself\u001b[39m\u001b[39m.\u001b[39mhide_prauc)],\n\u001b[0;32m    203\u001b[0m         [to_html\u001b[39m.\u001b[39mhide(\u001b[39mself\u001b[39m\u001b[39m.\u001b[39mliftcurve\u001b[39m.\u001b[39mto_html(state_dict, add_header\u001b[39m=\u001b[39m\u001b[39mFalse\u001b[39;00m), hide\u001b[39m=\u001b[39m\u001b[39mself\u001b[39m\u001b[39m.\u001b[39mhide_liftcurve),\n\u001b[0;32m    204\u001b[0m          to_html\u001b[39m.\u001b[39mhide(\u001b[39mself\u001b[39m\u001b[39m.\u001b[39mcumulative_precision\u001b[39m.\u001b[39mto_html(state_dict, add_header\u001b[39m=\u001b[39m\u001b[39mFalse\u001b[39;00m), hide\u001b[39m=\u001b[39m\u001b[39mself\u001b[39m\u001b[39m.\u001b[39mhide_cumprecision)]\n\u001b[0;32m    205\u001b[0m     )\n\u001b[0;32m    206\u001b[0m     \u001b[39mif\u001b[39;00m add_header:\n\u001b[0;32m    207\u001b[0m         \u001b[39mreturn\u001b[39;00m to_html\u001b[39m.\u001b[39madd_header(html)\n",
      "File \u001b[1;32mc:\\Users\\alex\\Desktop\\Experiments\\FLAML\\.venv\\lib\\site-packages\\explainerdashboard\\dashboard_components\\classifier_components.py:1633\u001b[0m, in \u001b[0;36mClassifierModelSummaryComponent.to_html\u001b[1;34m(self, state_dict, add_header)\u001b[0m\n\u001b[0;32m   1631\u001b[0m \u001b[39mdef\u001b[39;00m \u001b[39mto_html\u001b[39m(\u001b[39mself\u001b[39m, state_dict\u001b[39m=\u001b[39m\u001b[39mNone\u001b[39;00m, add_header\u001b[39m=\u001b[39m\u001b[39mTrue\u001b[39;00m):\n\u001b[0;32m   1632\u001b[0m     args \u001b[39m=\u001b[39m \u001b[39mself\u001b[39m\u001b[39m.\u001b[39mget_state_args(state_dict)\n\u001b[1;32m-> 1633\u001b[0m     metrics_df \u001b[39m=\u001b[39m \u001b[39mself\u001b[39;49m\u001b[39m.\u001b[39;49m_get_metrics_df(args[\u001b[39m'\u001b[39;49m\u001b[39mcutoff\u001b[39;49m\u001b[39m'\u001b[39;49m], args[\u001b[39m'\u001b[39;49m\u001b[39mpos_label\u001b[39;49m\u001b[39m'\u001b[39;49m])\n\u001b[0;32m   1634\u001b[0m     html \u001b[39m=\u001b[39m to_html\u001b[39m.\u001b[39mtable_from_df(metrics_df)\n\u001b[0;32m   1635\u001b[0m     html \u001b[39m=\u001b[39m to_html\u001b[39m.\u001b[39mcard(html, title\u001b[39m=\u001b[39m\u001b[39mself\u001b[39m\u001b[39m.\u001b[39mtitle)\n",
      "File \u001b[1;32mc:\\Users\\alex\\Desktop\\Experiments\\FLAML\\.venv\\lib\\site-packages\\explainerdashboard\\dashboard_components\\classifier_components.py:1642\u001b[0m, in \u001b[0;36mClassifierModelSummaryComponent._get_metrics_df\u001b[1;34m(self, cutoff, pos_label)\u001b[0m\n\u001b[0;32m   1640\u001b[0m \u001b[39mdef\u001b[39;00m \u001b[39m_get_metrics_df\u001b[39m(\u001b[39mself\u001b[39m, cutoff, pos_label):\n\u001b[0;32m   1641\u001b[0m     metrics_df \u001b[39m=\u001b[39m (pd\u001b[39m.\u001b[39mDataFrame(\n\u001b[1;32m-> 1642\u001b[0m                             \u001b[39mself\u001b[39;49m\u001b[39m.\u001b[39;49mexplainer\u001b[39m.\u001b[39;49mmetrics(cutoff\u001b[39m=\u001b[39;49mcutoff, pos_label\u001b[39m=\u001b[39;49mpos_label, \n\u001b[0;32m   1643\u001b[0m                                                     show_metrics\u001b[39m=\u001b[39;49m\u001b[39mself\u001b[39;49m\u001b[39m.\u001b[39;49mshow_metrics), \n\u001b[0;32m   1644\u001b[0m                             index\u001b[39m=\u001b[39m[\u001b[39m\"\u001b[39m\u001b[39mScore\u001b[39m\u001b[39m\"\u001b[39m])\n\u001b[0;32m   1645\u001b[0m                           \u001b[39m.\u001b[39mT\u001b[39m.\u001b[39mrename_axis(index\u001b[39m=\u001b[39m\u001b[39m\"\u001b[39m\u001b[39mmetric\u001b[39m\u001b[39m\"\u001b[39m)\u001b[39m.\u001b[39mreset_index()\n\u001b[0;32m   1646\u001b[0m                           \u001b[39m.\u001b[39mround(\u001b[39mself\u001b[39m\u001b[39m.\u001b[39mround))\n\u001b[0;32m   1647\u001b[0m     \u001b[39mreturn\u001b[39;00m metrics_df\n",
      "File \u001b[1;32mc:\\Users\\alex\\Desktop\\Experiments\\FLAML\\.venv\\lib\\site-packages\\explainerdashboard\\explainers.py:61\u001b[0m, in \u001b[0;36minsert_pos_label.<locals>.inner\u001b[1;34m(self, *args, **kwargs)\u001b[0m\n\u001b[0;32m     58\u001b[0m     \u001b[39melse\u001b[39;00m:  \n\u001b[0;32m     59\u001b[0m         \u001b[39m# insert self.pos_label \u001b[39;00m\n\u001b[0;32m     60\u001b[0m         kwargs\u001b[39m.\u001b[39mupdate(\u001b[39mdict\u001b[39m(pos_label\u001b[39m=\u001b[39m\u001b[39mself\u001b[39m\u001b[39m.\u001b[39mpos_label))\n\u001b[1;32m---> 61\u001b[0m         \u001b[39mreturn\u001b[39;00m func(\u001b[39mself\u001b[39m, \u001b[39m*\u001b[39margs, \u001b[39m*\u001b[39m\u001b[39m*\u001b[39mkwargs)\n\u001b[0;32m     62\u001b[0m kwargs\u001b[39m.\u001b[39mupdate(\u001b[39mdict\u001b[39m(\u001b[39mzip\u001b[39m(inspect\u001b[39m.\u001b[39mgetfullargspec(func)\u001b[39m.\u001b[39margs[\u001b[39m1\u001b[39m:\u001b[39m1\u001b[39m\u001b[39m+\u001b[39m\u001b[39mlen\u001b[39m(args)], args)))\n\u001b[0;32m     63\u001b[0m \u001b[39mif\u001b[39;00m \u001b[39m'\u001b[39m\u001b[39mpos_label\u001b[39m\u001b[39m'\u001b[39m \u001b[39min\u001b[39;00m kwargs:\n",
      "File \u001b[1;32mc:\\Users\\alex\\Desktop\\Experiments\\FLAML\\.venv\\lib\\site-packages\\explainerdashboard\\explainers.py:2588\u001b[0m, in \u001b[0;36mClassifierExplainer.metrics\u001b[1;34m(self, cutoff, show_metrics, pos_label)\u001b[0m\n\u001b[0;32m   2585\u001b[0m         \u001b[39mself\u001b[39m\u001b[39m.\u001b[39m_metrics[label] \u001b[39m=\u001b[39m \u001b[39mdict\u001b[39m()\n\u001b[0;32m   2586\u001b[0m         \u001b[39mfor\u001b[39;00m cut \u001b[39min\u001b[39;00m np\u001b[39m.\u001b[39mlinspace(\u001b[39m1\u001b[39m, \u001b[39m99\u001b[39m, \u001b[39m99\u001b[39m, dtype\u001b[39m=\u001b[39m\u001b[39mint\u001b[39m):\n\u001b[0;32m   2587\u001b[0m             \u001b[39mself\u001b[39m\u001b[39m.\u001b[39m_metrics[label][cut] \u001b[39m=\u001b[39m \\\n\u001b[1;32m-> 2588\u001b[0m                 get_metrics(\u001b[39m0.01\u001b[39;49m\u001b[39m*\u001b[39;49mcut, label)\n\u001b[0;32m   2589\u001b[0m \u001b[39melse\u001b[39;00m:\n\u001b[0;32m   2590\u001b[0m     \u001b[39mself\u001b[39m\u001b[39m.\u001b[39m_metrics \u001b[39m=\u001b[39m get_cv_metrics(\u001b[39mself\u001b[39m\u001b[39m.\u001b[39mcv)\n",
      "File \u001b[1;32mc:\\Users\\alex\\Desktop\\Experiments\\FLAML\\.venv\\lib\\site-packages\\explainerdashboard\\explainers.py:2539\u001b[0m, in \u001b[0;36mClassifierExplainer.metrics.<locals>.get_metrics\u001b[1;34m(cutoff, pos_label)\u001b[0m\n\u001b[0;32m   2531\u001b[0m y_true \u001b[39m=\u001b[39m \u001b[39mself\u001b[39m\u001b[39m.\u001b[39my_binary(pos_label)\n\u001b[0;32m   2532\u001b[0m y_pred \u001b[39m=\u001b[39m np\u001b[39m.\u001b[39mwhere(\u001b[39mself\u001b[39m\u001b[39m.\u001b[39mpred_probas(pos_label) \u001b[39m>\u001b[39m cutoff, \u001b[39m1\u001b[39m, \u001b[39m0\u001b[39m)\n\u001b[0;32m   2534\u001b[0m metrics_dict \u001b[39m=\u001b[39m {\n\u001b[0;32m   2535\u001b[0m     \u001b[39m'\u001b[39m\u001b[39maccuracy\u001b[39m\u001b[39m'\u001b[39m : accuracy_score(y_true, y_pred),\n\u001b[0;32m   2536\u001b[0m     \u001b[39m'\u001b[39m\u001b[39mprecision\u001b[39m\u001b[39m'\u001b[39m : precision_score(y_true, y_pred, zero_division\u001b[39m=\u001b[39m\u001b[39m0\u001b[39m),\n\u001b[0;32m   2537\u001b[0m     \u001b[39m'\u001b[39m\u001b[39mrecall\u001b[39m\u001b[39m'\u001b[39m : recall_score(y_true, y_pred),\n\u001b[0;32m   2538\u001b[0m     \u001b[39m'\u001b[39m\u001b[39mf1\u001b[39m\u001b[39m'\u001b[39m : f1_score(y_true, y_pred),\n\u001b[1;32m-> 2539\u001b[0m     \u001b[39m'\u001b[39m\u001b[39mroc_auc_score\u001b[39m\u001b[39m'\u001b[39m : roc_auc_score(y_true, \u001b[39mself\u001b[39;49m\u001b[39m.\u001b[39;49mpred_probas(pos_label)),\n\u001b[0;32m   2540\u001b[0m     \u001b[39m'\u001b[39m\u001b[39mpr_auc_score\u001b[39m\u001b[39m'\u001b[39m : average_precision_score(y_true, \u001b[39mself\u001b[39m\u001b[39m.\u001b[39mpred_probas(pos_label)),\n\u001b[0;32m   2541\u001b[0m     \u001b[39m'\u001b[39m\u001b[39mlog_loss\u001b[39m\u001b[39m'\u001b[39m : log_loss(y_true, \u001b[39mself\u001b[39m\u001b[39m.\u001b[39mpred_probas(pos_label))\n\u001b[0;32m   2542\u001b[0m }\n\u001b[0;32m   2543\u001b[0m \u001b[39mreturn\u001b[39;00m metrics_dict\n",
      "File \u001b[1;32mc:\\Users\\alex\\Desktop\\Experiments\\FLAML\\.venv\\lib\\site-packages\\sklearn\\metrics\\_ranking.py:572\u001b[0m, in \u001b[0;36mroc_auc_score\u001b[1;34m(y_true, y_score, average, sample_weight, max_fpr, multi_class, labels)\u001b[0m\n\u001b[0;32m    570\u001b[0m     labels \u001b[39m=\u001b[39m np\u001b[39m.\u001b[39munique(y_true)\n\u001b[0;32m    571\u001b[0m     y_true \u001b[39m=\u001b[39m label_binarize(y_true, classes\u001b[39m=\u001b[39mlabels)[:, \u001b[39m0\u001b[39m]\n\u001b[1;32m--> 572\u001b[0m     \u001b[39mreturn\u001b[39;00m _average_binary_score(\n\u001b[0;32m    573\u001b[0m         partial(_binary_roc_auc_score, max_fpr\u001b[39m=\u001b[39;49mmax_fpr),\n\u001b[0;32m    574\u001b[0m         y_true,\n\u001b[0;32m    575\u001b[0m         y_score,\n\u001b[0;32m    576\u001b[0m         average,\n\u001b[0;32m    577\u001b[0m         sample_weight\u001b[39m=\u001b[39;49msample_weight,\n\u001b[0;32m    578\u001b[0m     )\n\u001b[0;32m    579\u001b[0m \u001b[39melse\u001b[39;00m:  \u001b[39m# multilabel-indicator\u001b[39;00m\n\u001b[0;32m    580\u001b[0m     \u001b[39mreturn\u001b[39;00m _average_binary_score(\n\u001b[0;32m    581\u001b[0m         partial(_binary_roc_auc_score, max_fpr\u001b[39m=\u001b[39mmax_fpr),\n\u001b[0;32m    582\u001b[0m         y_true,\n\u001b[1;32m   (...)\u001b[0m\n\u001b[0;32m    585\u001b[0m         sample_weight\u001b[39m=\u001b[39msample_weight,\n\u001b[0;32m    586\u001b[0m     )\n",
      "File \u001b[1;32mc:\\Users\\alex\\Desktop\\Experiments\\FLAML\\.venv\\lib\\site-packages\\sklearn\\metrics\\_base.py:75\u001b[0m, in \u001b[0;36m_average_binary_score\u001b[1;34m(binary_metric, y_true, y_score, average, sample_weight)\u001b[0m\n\u001b[0;32m     72\u001b[0m     \u001b[39mraise\u001b[39;00m \u001b[39mValueError\u001b[39;00m(\u001b[39m\"\u001b[39m\u001b[39m{0}\u001b[39;00m\u001b[39m format is not supported\u001b[39m\u001b[39m\"\u001b[39m\u001b[39m.\u001b[39mformat(y_type))\n\u001b[0;32m     74\u001b[0m \u001b[39mif\u001b[39;00m y_type \u001b[39m==\u001b[39m \u001b[39m\"\u001b[39m\u001b[39mbinary\u001b[39m\u001b[39m\"\u001b[39m:\n\u001b[1;32m---> 75\u001b[0m     \u001b[39mreturn\u001b[39;00m binary_metric(y_true, y_score, sample_weight\u001b[39m=\u001b[39;49msample_weight)\n\u001b[0;32m     77\u001b[0m check_consistent_length(y_true, y_score, sample_weight)\n\u001b[0;32m     78\u001b[0m y_true \u001b[39m=\u001b[39m check_array(y_true)\n",
      "File \u001b[1;32mc:\\Users\\alex\\Desktop\\Experiments\\FLAML\\.venv\\lib\\site-packages\\sklearn\\metrics\\_ranking.py:339\u001b[0m, in \u001b[0;36m_binary_roc_auc_score\u001b[1;34m(y_true, y_score, sample_weight, max_fpr)\u001b[0m\n\u001b[0;32m    337\u001b[0m \u001b[39m\u001b[39m\u001b[39m\"\"\"Binary roc auc score.\"\"\"\u001b[39;00m\n\u001b[0;32m    338\u001b[0m \u001b[39mif\u001b[39;00m \u001b[39mlen\u001b[39m(np\u001b[39m.\u001b[39munique(y_true)) \u001b[39m!=\u001b[39m \u001b[39m2\u001b[39m:\n\u001b[1;32m--> 339\u001b[0m     \u001b[39mraise\u001b[39;00m \u001b[39mValueError\u001b[39;00m(\n\u001b[0;32m    340\u001b[0m         \u001b[39m\"\u001b[39m\u001b[39mOnly one class present in y_true. ROC AUC score \u001b[39m\u001b[39m\"\u001b[39m\n\u001b[0;32m    341\u001b[0m         \u001b[39m\"\u001b[39m\u001b[39mis not defined in that case.\u001b[39m\u001b[39m\"\u001b[39m\n\u001b[0;32m    342\u001b[0m     )\n\u001b[0;32m    344\u001b[0m fpr, tpr, _ \u001b[39m=\u001b[39m roc_curve(y_true, y_score, sample_weight\u001b[39m=\u001b[39msample_weight)\n\u001b[0;32m    345\u001b[0m \u001b[39mif\u001b[39;00m max_fpr \u001b[39mis\u001b[39;00m \u001b[39mNone\u001b[39;00m \u001b[39mor\u001b[39;00m max_fpr \u001b[39m==\u001b[39m \u001b[39m1\u001b[39m:\n",
      "\u001b[1;31mValueError\u001b[0m: Only one class present in y_true. ROC AUC score is not defined in that case."
     ]
    }
   ],
   "source": [
    "dashboard = ExplainerDashboard(ClassifierExplainer(automl, X_test, y_test, labels=enc.categories_[0].tolist()))"
   ]
  },
  {
   "cell_type": "code",
   "execution_count": null,
   "metadata": {},
   "outputs": [],
   "source": [
    "\n",
    "dashboard.save_html(\"./multiclass_dashboard.html\")\n",
    "dashboard.explainer.dump(\"./multiclass_dashboard.dill\")"
   ]
  },
  {
   "cell_type": "code",
   "execution_count": null,
   "metadata": {},
   "outputs": [],
   "source": [
    "dashboard = ExplainerDashboard(ClassifierExplainer.from_file(\"./multiclass_dashboard.dill\"))"
   ]
  },
  {
   "cell_type": "code",
   "execution_count": null,
   "metadata": {},
   "outputs": [],
   "source": [
    "dashboard.run(8050)"
   ]
  }
 ],
 "metadata": {
  "kernelspec": {
   "display_name": "Python 3.9.12 ('.venv': venv)",
   "language": "python",
   "name": "python3"
  },
  "language_info": {
   "codemirror_mode": {
    "name": "ipython",
    "version": 3
   },
   "file_extension": ".py",
   "mimetype": "text/x-python",
   "name": "python",
   "nbconvert_exporter": "python",
   "pygments_lexer": "ipython3",
   "version": "3.9.12"
  },
  "orig_nbformat": 4,
  "vscode": {
   "interpreter": {
    "hash": "e21738e886a40d2d0f94297aaa90a23388a7735bc5ad1f7e34b91cb5b9e4c59c"
   }
  }
 },
 "nbformat": 4,
 "nbformat_minor": 2
}

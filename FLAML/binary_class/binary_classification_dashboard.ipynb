{
 "cells": [
  {
   "cell_type": "code",
   "execution_count": 4,
   "metadata": {},
   "outputs": [],
   "source": [
    "from explainerdashboard import ClassifierExplainer, ExplainerDashboard\n",
    "\n",
    "from sklearn.model_selection import train_test_split\n",
    "import pandas as pd\n",
    "from flaml import AutoML"
   ]
  },
  {
   "cell_type": "code",
   "execution_count": 5,
   "metadata": {},
   "outputs": [
    {
     "name": "stdout",
     "output_type": "stream",
     "text": [
      "[flaml.automl.automl: 01-18 12:57:50] {2715} INFO - task = classification\n",
      "[flaml.automl.automl: 01-18 12:57:50] {2717} INFO - Data split method: stratified\n",
      "[flaml.automl.automl: 01-18 12:57:50] {2720} INFO - Evaluation method: cv\n",
      "[flaml.automl.automl: 01-18 12:57:50] {2847} INFO - Minimizing error metric: 1-roc_auc\n",
      "[flaml.automl.automl: 01-18 12:57:50] {2897} WARNING - No search budget is provided via time_budget or max_iter. Training only one model per estimator. Zero-shot AutoML is used for certain tasks and estimators. To tune hyperparameters for each estimator, please provide budget either via time_budget or max_iter.\n",
      "[flaml.automl.automl: 01-18 12:57:50] {2993} INFO - List of ML learners in AutoML Run: ['rf', 'lgbm', 'xgboost', 'extra_tree', 'xgb_limitdepth', 'lrl1']\n",
      "[flaml.automl.automl: 01-18 12:57:50] {3322} INFO - iteration 0, current learner rf\n",
      "[flaml.automl.automl: 01-18 12:57:55] {3460} INFO - Estimated sufficient time budget=10000s. Estimated necessary time budget=10s.\n",
      "[flaml.automl.automl: 01-18 12:57:55] {3507} INFO -  at 5.7s,\testimator rf's best error=0.1759,\tbest estimator rf's best error=0.1759\n",
      "[flaml.automl.automl: 01-18 12:57:55] {3322} INFO - iteration 1, current learner lgbm\n",
      "[flaml.automl.automl: 01-18 12:58:49] {3507} INFO -  at 59.5s,\testimator lgbm's best error=0.2009,\tbest estimator rf's best error=0.1759\n",
      "[flaml.automl.automl: 01-18 12:58:49] {3322} INFO - iteration 2, current learner xgboost\n"
     ]
    },
    {
     "name": "stderr",
     "output_type": "stream",
     "text": [
      "c:\\Users\\alex\\Desktop\\Experiments\\FLAML\\.venv\\lib\\site-packages\\xgboost\\sklearn.py:1395: UserWarning: `use_label_encoder` is deprecated in 1.7.0.\n",
      "c:\\Users\\alex\\Desktop\\Experiments\\FLAML\\.venv\\lib\\site-packages\\xgboost\\sklearn.py:1395: UserWarning: `use_label_encoder` is deprecated in 1.7.0.\n",
      "c:\\Users\\alex\\Desktop\\Experiments\\FLAML\\.venv\\lib\\site-packages\\xgboost\\sklearn.py:1395: UserWarning: `use_label_encoder` is deprecated in 1.7.0.\n",
      "c:\\Users\\alex\\Desktop\\Experiments\\FLAML\\.venv\\lib\\site-packages\\xgboost\\sklearn.py:1395: UserWarning: `use_label_encoder` is deprecated in 1.7.0.\n",
      "c:\\Users\\alex\\Desktop\\Experiments\\FLAML\\.venv\\lib\\site-packages\\xgboost\\sklearn.py:1395: UserWarning: `use_label_encoder` is deprecated in 1.7.0.\n"
     ]
    },
    {
     "name": "stdout",
     "output_type": "stream",
     "text": [
      "[flaml.automl.automl: 01-18 13:21:50] {3507} INFO -  at 1440.2s,\testimator xgboost's best error=0.1968,\tbest estimator rf's best error=0.1759\n",
      "[flaml.automl.automl: 01-18 13:21:50] {3322} INFO - iteration 3, current learner extra_tree\n",
      "[flaml.automl.automl: 01-18 13:21:52] {3507} INFO -  at 1442.8s,\testimator extra_tree's best error=0.1620,\tbest estimator extra_tree's best error=0.1620\n",
      "[flaml.automl.automl: 01-18 13:21:52] {3322} INFO - iteration 4, current learner xgb_limitdepth\n"
     ]
    },
    {
     "name": "stderr",
     "output_type": "stream",
     "text": [
      "c:\\Users\\alex\\Desktop\\Experiments\\FLAML\\.venv\\lib\\site-packages\\xgboost\\sklearn.py:1395: UserWarning: `use_label_encoder` is deprecated in 1.7.0.\n",
      "c:\\Users\\alex\\Desktop\\Experiments\\FLAML\\.venv\\lib\\site-packages\\xgboost\\sklearn.py:1395: UserWarning: `use_label_encoder` is deprecated in 1.7.0.\n",
      "c:\\Users\\alex\\Desktop\\Experiments\\FLAML\\.venv\\lib\\site-packages\\xgboost\\sklearn.py:1395: UserWarning: `use_label_encoder` is deprecated in 1.7.0.\n",
      "c:\\Users\\alex\\Desktop\\Experiments\\FLAML\\.venv\\lib\\site-packages\\xgboost\\sklearn.py:1395: UserWarning: `use_label_encoder` is deprecated in 1.7.0.\n",
      "c:\\Users\\alex\\Desktop\\Experiments\\FLAML\\.venv\\lib\\site-packages\\xgboost\\sklearn.py:1395: UserWarning: `use_label_encoder` is deprecated in 1.7.0.\n"
     ]
    },
    {
     "name": "stdout",
     "output_type": "stream",
     "text": [
      "[flaml.automl.automl: 01-18 13:22:47] {3507} INFO -  at 1498.0s,\testimator xgb_limitdepth's best error=0.1850,\tbest estimator extra_tree's best error=0.1620\n",
      "[flaml.automl.automl: 01-18 13:22:47] {3322} INFO - iteration 5, current learner lrl1\n",
      "[flaml.automl.automl: 01-18 13:22:48] {3507} INFO -  at 1498.1s,\testimator lrl1's best error=0.3365,\tbest estimator extra_tree's best error=0.1620\n"
     ]
    },
    {
     "name": "stderr",
     "output_type": "stream",
     "text": [
      "c:\\Users\\alex\\Desktop\\Experiments\\FLAML\\.venv\\lib\\site-packages\\sklearn\\linear_model\\_sag.py:350: ConvergenceWarning: The max_iter was reached which means the coef_ did not converge\n",
      "c:\\Users\\alex\\Desktop\\Experiments\\FLAML\\.venv\\lib\\site-packages\\sklearn\\linear_model\\_sag.py:350: ConvergenceWarning: The max_iter was reached which means the coef_ did not converge\n",
      "c:\\Users\\alex\\Desktop\\Experiments\\FLAML\\.venv\\lib\\site-packages\\sklearn\\linear_model\\_sag.py:350: ConvergenceWarning: The max_iter was reached which means the coef_ did not converge\n",
      "c:\\Users\\alex\\Desktop\\Experiments\\FLAML\\.venv\\lib\\site-packages\\sklearn\\linear_model\\_sag.py:350: ConvergenceWarning: The max_iter was reached which means the coef_ did not converge\n",
      "c:\\Users\\alex\\Desktop\\Experiments\\FLAML\\.venv\\lib\\site-packages\\sklearn\\linear_model\\_sag.py:350: ConvergenceWarning: The max_iter was reached which means the coef_ did not converge\n"
     ]
    },
    {
     "name": "stdout",
     "output_type": "stream",
     "text": [
      "[flaml.automl.automl: 01-18 13:22:48] {3771} INFO - retrain extra_tree for 0.3s\n",
      "[flaml.automl.automl: 01-18 13:22:48] {3778} INFO - retrained model: ExtraTreesClassifier(criterion='entropy', max_features=0.3629795757973624,\n",
      "                     max_leaf_nodes=81, n_estimators=210, n_jobs=-1,\n",
      "                     random_state=12032022)\n",
      "[flaml.automl.automl: 01-18 13:22:48] {3023} INFO - fit succeeded\n",
      "[flaml.automl.automl: 01-18 13:22:48] {3024} INFO - Time taken to find the best model: 1442.798541545868\n"
     ]
    }
   ],
   "source": [
    "data = pd.read_csv(\"./diabetes.csv\")\n",
    "X = data.drop([\"Outcome\"], axis=1)\n",
    "y = data[\"Outcome\"]\n",
    "X_train, X_test, y_train, y_test = train_test_split(X, y, test_size=0.05)\n",
    "\n",
    "automl = AutoML()\n",
    "automl.fit(X_train, y_train)"
   ]
  },
  {
   "cell_type": "code",
   "execution_count": 6,
   "metadata": {},
   "outputs": [
    {
     "name": "stdout",
     "output_type": "stream",
     "text": [
      "WARNING: Parameter shap='guess', but failed to guess the type of shap explainer to use for AutoML. Defaulting to the model agnostic shap.KernelExplainer (shap='kernel'). However this will be slow, so if your model is compatible with e.g. shap.TreeExplainer or shap.LinearExplainer then pass shap='tree' or shap='linear'!\n",
      "WARNING: For shap='kernel', shap interaction values can unfortunately not be calculated!\n",
      "Note: shap values for shap='kernel' normally get calculated against X_background, but paramater X_background=None, so setting X_background=shap.sample(X, 50)...\n",
      "Generating self.shap_explainer = shap.KernelExplainer(model, X, link='identity')\n",
      "Building ExplainerDashboard..\n",
      "Detected notebook environment, consider setting mode='external', mode='inline' or mode='jupyterlab' to keep the notebook interactive while the dashboard is running...\n",
      "For this type of model and model_output interactions don't work, so setting shap_interaction=False...\n",
      "The explainer object has no decision_trees property. so setting decision_trees=False...\n",
      "Generating layout...\n",
      "Calculating shap values...\n"
     ]
    },
    {
     "name": "stderr",
     "output_type": "stream",
     "text": [
      "100%|██████████| 39/39 [00:08<00:00,  4.70it/s]\n"
     ]
    },
    {
     "name": "stdout",
     "output_type": "stream",
     "text": [
      "Calculating prediction probabilities...\n",
      "Calculating metrics...\n",
      "Calculating confusion matrices...\n",
      "Calculating classification_dfs...\n",
      "Calculating roc auc curves...\n",
      "Calculating pr auc curves...\n",
      "Calculating liftcurve_dfs...\n"
     ]
    },
    {
     "name": "stderr",
     "output_type": "stream",
     "text": [
      "c:\\Users\\alex\\Desktop\\Experiments\\FLAML\\.venv\\lib\\site-packages\\explainerdashboard\\explainer_methods.py:791: FutureWarning:\n",
      "\n",
      "In a future version, `df.iloc[:, i] = newvals` will attempt to set the values inplace instead of always setting a new array. To retain the old behavior, use either `df[df.columns[i]] = newvals` or, if columns are non-unique, `df.isetitem(i, newvals)`\n",
      "\n",
      "c:\\Users\\alex\\Desktop\\Experiments\\FLAML\\.venv\\lib\\site-packages\\explainerdashboard\\explainer_methods.py:791: FutureWarning:\n",
      "\n",
      "In a future version, `df.iloc[:, i] = newvals` will attempt to set the values inplace instead of always setting a new array. To retain the old behavior, use either `df[df.columns[i]] = newvals` or, if columns are non-unique, `df.isetitem(i, newvals)`\n",
      "\n",
      "c:\\Users\\alex\\Desktop\\Experiments\\FLAML\\.venv\\lib\\site-packages\\explainerdashboard\\explainer_methods.py:791: FutureWarning:\n",
      "\n",
      "In a future version, `df.iloc[:, i] = newvals` will attempt to set the values inplace instead of always setting a new array. To retain the old behavior, use either `df[df.columns[i]] = newvals` or, if columns are non-unique, `df.isetitem(i, newvals)`\n",
      "\n",
      "c:\\Users\\alex\\Desktop\\Experiments\\FLAML\\.venv\\lib\\site-packages\\explainerdashboard\\explainer_methods.py:791: FutureWarning:\n",
      "\n",
      "In a future version, `df.iloc[:, i] = newvals` will attempt to set the values inplace instead of always setting a new array. To retain the old behavior, use either `df[df.columns[i]] = newvals` or, if columns are non-unique, `df.isetitem(i, newvals)`\n",
      "\n"
     ]
    },
    {
     "name": "stdout",
     "output_type": "stream",
     "text": [
      "Calculating dependencies...\n",
      "Calculating permutation importances (if slow, try setting n_jobs parameter)...\n",
      "Calculating predictions...\n",
      "Calculating pred_percentiles...\n",
      "Reminder: you can store the explainer (including calculated dependencies) with explainer.dump('explainer.joblib') and reload with e.g. ClassifierExplainer.from_file('explainer.joblib')\n",
      "Registering callbacks...\n"
     ]
    }
   ],
   "source": [
    "dashboard = ExplainerDashboard(ClassifierExplainer(automl, X_test, y_test))"
   ]
  },
  {
   "cell_type": "code",
   "execution_count": 7,
   "metadata": {},
   "outputs": [
    {
     "name": "stderr",
     "output_type": "stream",
     "text": [
      "c:\\Users\\alex\\Desktop\\Experiments\\FLAML\\.venv\\lib\\site-packages\\explainerdashboard\\explainer_methods.py:791: FutureWarning:\n",
      "\n",
      "In a future version, `df.iloc[:, i] = newvals` will attempt to set the values inplace instead of always setting a new array. To retain the old behavior, use either `df[df.columns[i]] = newvals` or, if columns are non-unique, `df.isetitem(i, newvals)`\n",
      "\n",
      "c:\\Users\\alex\\Desktop\\Experiments\\FLAML\\.venv\\lib\\site-packages\\explainerdashboard\\explainer_methods.py:791: FutureWarning:\n",
      "\n",
      "In a future version, `df.iloc[:, i] = newvals` will attempt to set the values inplace instead of always setting a new array. To retain the old behavior, use either `df[df.columns[i]] = newvals` or, if columns are non-unique, `df.isetitem(i, newvals)`\n",
      "\n",
      "c:\\Users\\alex\\Desktop\\Experiments\\FLAML\\.venv\\lib\\site-packages\\explainerdashboard\\explainer_methods.py:791: FutureWarning:\n",
      "\n",
      "In a future version, `df.iloc[:, i] = newvals` will attempt to set the values inplace instead of always setting a new array. To retain the old behavior, use either `df[df.columns[i]] = newvals` or, if columns are non-unique, `df.isetitem(i, newvals)`\n",
      "\n",
      "c:\\Users\\alex\\Desktop\\Experiments\\FLAML\\.venv\\lib\\site-packages\\explainerdashboard\\explainer_methods.py:791: FutureWarning:\n",
      "\n",
      "In a future version, `df.iloc[:, i] = newvals` will attempt to set the values inplace instead of always setting a new array. To retain the old behavior, use either `df[df.columns[i]] = newvals` or, if columns are non-unique, `df.isetitem(i, newvals)`\n",
      "\n"
     ]
    }
   ],
   "source": [
    "\n",
    "dashboard.save_html(\"./binary_dashboard.html\")\n",
    "dashboard.explainer.dump(\"./binary_dashboard.dill\")"
   ]
  },
  {
   "cell_type": "code",
   "execution_count": 8,
   "metadata": {},
   "outputs": [
    {
     "name": "stdout",
     "output_type": "stream",
     "text": [
      "Building ExplainerDashboard..\n",
      "Detected notebook environment, consider setting mode='external', mode='inline' or mode='jupyterlab' to keep the notebook interactive while the dashboard is running...\n",
      "For this type of model and model_output interactions don't work, so setting shap_interaction=False...\n",
      "The explainer object has no decision_trees property. so setting decision_trees=False...\n",
      "Generating layout...\n"
     ]
    },
    {
     "name": "stderr",
     "output_type": "stream",
     "text": [
      "c:\\Users\\alex\\Desktop\\Experiments\\FLAML\\.venv\\lib\\site-packages\\explainerdashboard\\explainer_methods.py:791: FutureWarning:\n",
      "\n",
      "In a future version, `df.iloc[:, i] = newvals` will attempt to set the values inplace instead of always setting a new array. To retain the old behavior, use either `df[df.columns[i]] = newvals` or, if columns are non-unique, `df.isetitem(i, newvals)`\n",
      "\n",
      "c:\\Users\\alex\\Desktop\\Experiments\\FLAML\\.venv\\lib\\site-packages\\explainerdashboard\\explainer_methods.py:791: FutureWarning:\n",
      "\n",
      "In a future version, `df.iloc[:, i] = newvals` will attempt to set the values inplace instead of always setting a new array. To retain the old behavior, use either `df[df.columns[i]] = newvals` or, if columns are non-unique, `df.isetitem(i, newvals)`\n",
      "\n",
      "c:\\Users\\alex\\Desktop\\Experiments\\FLAML\\.venv\\lib\\site-packages\\explainerdashboard\\explainer_methods.py:791: FutureWarning:\n",
      "\n",
      "In a future version, `df.iloc[:, i] = newvals` will attempt to set the values inplace instead of always setting a new array. To retain the old behavior, use either `df[df.columns[i]] = newvals` or, if columns are non-unique, `df.isetitem(i, newvals)`\n",
      "\n",
      "c:\\Users\\alex\\Desktop\\Experiments\\FLAML\\.venv\\lib\\site-packages\\explainerdashboard\\explainer_methods.py:791: FutureWarning:\n",
      "\n",
      "In a future version, `df.iloc[:, i] = newvals` will attempt to set the values inplace instead of always setting a new array. To retain the old behavior, use either `df[df.columns[i]] = newvals` or, if columns are non-unique, `df.isetitem(i, newvals)`\n",
      "\n"
     ]
    },
    {
     "name": "stdout",
     "output_type": "stream",
     "text": [
      "Calculating dependencies...\n",
      "Reminder: you can store the explainer (including calculated dependencies) with explainer.dump('explainer.joblib') and reload with e.g. ClassifierExplainer.from_file('explainer.joblib')\n",
      "Registering callbacks...\n"
     ]
    }
   ],
   "source": [
    "dashboard = ExplainerDashboard(ClassifierExplainer.from_file(\"./binary_dashboard.dill\"))"
   ]
  },
  {
   "cell_type": "code",
   "execution_count": 9,
   "metadata": {},
   "outputs": [
    {
     "name": "stdout",
     "output_type": "stream",
     "text": [
      "Starting ExplainerDashboard on http://192.168.1.193:8045\n",
      "Dash is running on http://0.0.0.0:8045/\n",
      "\n",
      "Dash is running on http://0.0.0.0:8045/\n",
      "\n",
      " * Serving Flask app 'explainerdashboard.dashboards'\n",
      " * Debug mode: off\n"
     ]
    },
    {
     "name": "stderr",
     "output_type": "stream",
     "text": [
      "WARNING: This is a development server. Do not use it in a production deployment. Use a production WSGI server instead.\n",
      " * Running on all addresses (0.0.0.0)\n",
      " * Running on http://127.0.0.1:8045\n",
      " * Running on http://192.168.1.193:8045\n",
      "Press CTRL+C to quit\n",
      "127.0.0.1 - - [18/Jan/2023 13:24:20] \"GET / HTTP/1.1\" 200 -\n",
      "127.0.0.1 - - [18/Jan/2023 13:24:20] \"GET /assets/bootstrap.min.css?m=1673974085.4446497 HTTP/1.1\" 200 -\n",
      "127.0.0.1 - - [18/Jan/2023 13:24:21] \"GET /_dash-component-suites/dash/deps/polyfill@7.v2_7_1m1673974082.12.1.min.js HTTP/1.1\" 200 -\n",
      "127.0.0.1 - - [18/Jan/2023 13:24:21] \"GET /_dash-component-suites/dash/deps/prop-types@15.v2_7_1m1673974082.8.1.min.js HTTP/1.1\" 200 -\n",
      "127.0.0.1 - - [18/Jan/2023 13:24:21] \"GET /_dash-component-suites/dash/deps/react-dom@16.v2_7_1m1673974082.14.0.min.js HTTP/1.1\" 200 -\n",
      "127.0.0.1 - - [18/Jan/2023 13:24:21] \"GET /_dash-component-suites/dash/deps/react@16.v2_7_1m1673974082.14.0.min.js HTTP/1.1\" 200 -\n",
      "127.0.0.1 - - [18/Jan/2023 13:24:21] \"GET /_dash-component-suites/dash_bootstrap_components/_components/dash_bootstrap_components.v1_3_0m1673974084.min.js HTTP/1.1\" 200 -\n",
      "127.0.0.1 - - [18/Jan/2023 13:24:21] \"GET /_dash-component-suites/dash/dash-renderer/build/dash_renderer.v2_7_1m1673974082.min.js HTTP/1.1\" 200 -\n",
      "127.0.0.1 - - [18/Jan/2023 13:24:21] \"GET /_dash-component-suites/dash/dcc/dash_core_components.v2_7_1m1673974082.js HTTP/1.1\" 200 -\n",
      "127.0.0.1 - - [18/Jan/2023 13:24:21] \"GET /_dash-component-suites/dash/dcc/dash_core_components-shared.v2_7_1m1673974082.js HTTP/1.1\" 200 -\n",
      "127.0.0.1 - - [18/Jan/2023 13:24:21] \"GET /_dash-component-suites/dash/dash_table/bundle.v5_2_1m1673974082.js HTTP/1.1\" 200 -\n",
      "127.0.0.1 - - [18/Jan/2023 13:24:21] \"GET /_dash-component-suites/dash/html/dash_html_components.v2_0_7m1673974082.min.js HTTP/1.1\" 200 -\n",
      "127.0.0.1 - - [18/Jan/2023 13:24:22] \"GET /_dash-layout HTTP/1.1\" 200 -\n",
      "127.0.0.1 - - [18/Jan/2023 13:24:22] \"GET /_dash-dependencies HTTP/1.1\" 200 -\n",
      "127.0.0.1 - - [18/Jan/2023 13:24:22] \"GET /assets/favicon.ico?m=1673974085.4456499 HTTP/1.1\" 200 -\n",
      "127.0.0.1 - - [18/Jan/2023 13:24:22] \"GET /_dash-component-suites/dash/dcc/async-dropdown.js HTTP/1.1\" 200 -\n",
      "127.0.0.1 - - [18/Jan/2023 13:24:22] \"POST /_dash-update-component HTTP/1.1\" 204 -\n",
      "127.0.0.1 - - [18/Jan/2023 13:24:22] \"POST /_dash-update-component HTTP/1.1\" 200 -\n",
      "127.0.0.1 - - [18/Jan/2023 13:24:22] \"POST /_dash-update-component HTTP/1.1\" 200 -\n",
      "127.0.0.1 - - [18/Jan/2023 13:24:22] \"POST /_dash-update-component HTTP/1.1\" 200 -\n",
      "127.0.0.1 - - [18/Jan/2023 13:24:22] \"POST /_dash-update-component HTTP/1.1\" 200 -\n",
      "127.0.0.1 - - [18/Jan/2023 13:24:22] \"POST /_dash-update-component HTTP/1.1\" 200 -\n",
      "127.0.0.1 - - [18/Jan/2023 13:24:22] \"POST /_dash-update-component HTTP/1.1\" 200 -\n",
      "127.0.0.1 - - [18/Jan/2023 13:24:22] \"POST /_dash-update-component HTTP/1.1\" 200 -\n",
      "127.0.0.1 - - [18/Jan/2023 13:24:22] \"POST /_dash-update-component HTTP/1.1\" 200 -\n",
      "127.0.0.1 - - [18/Jan/2023 13:24:22] \"POST /_dash-update-component HTTP/1.1\" 200 -\n",
      "127.0.0.1 - - [18/Jan/2023 13:24:22] \"POST /_dash-update-component HTTP/1.1\" 200 -\n",
      "127.0.0.1 - - [18/Jan/2023 13:24:22] \"POST /_dash-update-component HTTP/1.1\" 200 -\n",
      "127.0.0.1 - - [18/Jan/2023 13:24:23] \"POST /_dash-update-component HTTP/1.1\" 200 -\n",
      "127.0.0.1 - - [18/Jan/2023 13:24:23] \"POST /_dash-update-component HTTP/1.1\" 200 -\n",
      "127.0.0.1 - - [18/Jan/2023 13:24:23] \"POST /_dash-update-component HTTP/1.1\" 200 -\n",
      "127.0.0.1 - - [18/Jan/2023 13:24:23] \"POST /_dash-update-component HTTP/1.1\" 200 -\n",
      "127.0.0.1 - - [18/Jan/2023 13:24:23] \"POST /_dash-update-component HTTP/1.1\" 200 -\n",
      "127.0.0.1 - - [18/Jan/2023 13:24:23] \"POST /_dash-update-component HTTP/1.1\" 200 -\n",
      "127.0.0.1 - - [18/Jan/2023 13:24:23] \"POST /_dash-update-component HTTP/1.1\" 200 -\n",
      "127.0.0.1 - - [18/Jan/2023 13:24:23] \"POST /_dash-update-component HTTP/1.1\" 200 -\n",
      "127.0.0.1 - - [18/Jan/2023 13:24:23] \"POST /_dash-update-component HTTP/1.1\" 200 -\n",
      "127.0.0.1 - - [18/Jan/2023 13:24:23] \"POST /_dash-update-component HTTP/1.1\" 200 -\n",
      "127.0.0.1 - - [18/Jan/2023 13:24:23] \"POST /_dash-update-component HTTP/1.1\" 200 -\n",
      "127.0.0.1 - - [18/Jan/2023 13:24:23] \"POST /_dash-update-component HTTP/1.1\" 204 -\n",
      "127.0.0.1 - - [18/Jan/2023 13:24:23] \"POST /_dash-update-component HTTP/1.1\" 200 -\n",
      "127.0.0.1 - - [18/Jan/2023 13:24:23] \"POST /_dash-update-component HTTP/1.1\" 200 -\n",
      "127.0.0.1 - - [18/Jan/2023 13:24:23] \"POST /_dash-update-component HTTP/1.1\" 200 -\n",
      "127.0.0.1 - - [18/Jan/2023 13:24:23] \"POST /_dash-update-component HTTP/1.1\" 200 -\n",
      "127.0.0.1 - - [18/Jan/2023 13:24:23] \"POST /_dash-update-component HTTP/1.1\" 200 -\n",
      "127.0.0.1 - - [18/Jan/2023 13:24:23] \"POST /_dash-update-component HTTP/1.1\" 200 -\n",
      "127.0.0.1 - - [18/Jan/2023 13:24:24] \"POST /_dash-update-component HTTP/1.1\" 200 -\n",
      "127.0.0.1 - - [18/Jan/2023 13:24:24] \"POST /_dash-update-component HTTP/1.1\" 200 -\n",
      "127.0.0.1 - - [18/Jan/2023 13:24:24] \"POST /_dash-update-component HTTP/1.1\" 204 -\n",
      "127.0.0.1 - - [18/Jan/2023 13:24:24] \"POST /_dash-update-component HTTP/1.1\" 204 -\n",
      "127.0.0.1 - - [18/Jan/2023 13:24:24] \"POST /_dash-update-component HTTP/1.1\" 200 -\n",
      "127.0.0.1 - - [18/Jan/2023 13:24:24] \"POST /_dash-update-component HTTP/1.1\" 200 -\n",
      "127.0.0.1 - - [18/Jan/2023 13:24:24] \"POST /_dash-update-component HTTP/1.1\" 200 -\n",
      "127.0.0.1 - - [18/Jan/2023 13:24:24] \"POST /_dash-update-component HTTP/1.1\" 200 -\n",
      "127.0.0.1 - - [18/Jan/2023 13:24:24] \"POST /_dash-update-component HTTP/1.1\" 200 -\n",
      "127.0.0.1 - - [18/Jan/2023 13:24:24] \"POST /_dash-update-component HTTP/1.1\" 200 -\n",
      "127.0.0.1 - - [18/Jan/2023 13:24:24] \"POST /_dash-update-component HTTP/1.1\" 200 -\n",
      "127.0.0.1 - - [18/Jan/2023 13:24:24] \"POST /_dash-update-component HTTP/1.1\" 200 -\n",
      "127.0.0.1 - - [18/Jan/2023 13:24:24] \"POST /_dash-update-component HTTP/1.1\" 200 -\n",
      "127.0.0.1 - - [18/Jan/2023 13:24:24] \"POST /_dash-update-component HTTP/1.1\" 200 -\n",
      "127.0.0.1 - - [18/Jan/2023 13:24:24] \"POST /_dash-update-component HTTP/1.1\" 200 -\n",
      "127.0.0.1 - - [18/Jan/2023 13:24:24] \"POST /_dash-update-component HTTP/1.1\" 200 -\n",
      "c:\\Users\\alex\\Desktop\\Experiments\\FLAML\\.venv\\lib\\site-packages\\explainerdashboard\\explainer_methods.py:791: FutureWarning:\n",
      "\n",
      "In a future version, `df.iloc[:, i] = newvals` will attempt to set the values inplace instead of always setting a new array. To retain the old behavior, use either `df[df.columns[i]] = newvals` or, if columns are non-unique, `df.isetitem(i, newvals)`\n",
      "\n",
      "127.0.0.1 - - [18/Jan/2023 13:24:25] \"POST /_dash-update-component HTTP/1.1\" 200 -\n",
      "127.0.0.1 - - [18/Jan/2023 13:24:25] \"POST /_dash-update-component HTTP/1.1\" 200 -\n",
      "127.0.0.1 - - [18/Jan/2023 13:24:25] \"POST /_dash-update-component HTTP/1.1\" 200 -\n",
      "127.0.0.1 - - [18/Jan/2023 13:24:25] \"POST /_dash-update-component HTTP/1.1\" 200 -\n",
      "127.0.0.1 - - [18/Jan/2023 13:24:25] \"POST /_dash-update-component HTTP/1.1\" 200 -\n",
      "c:\\Users\\alex\\Desktop\\Experiments\\FLAML\\.venv\\lib\\site-packages\\explainerdashboard\\explainer_methods.py:791: FutureWarning:\n",
      "\n",
      "In a future version, `df.iloc[:, i] = newvals` will attempt to set the values inplace instead of always setting a new array. To retain the old behavior, use either `df[df.columns[i]] = newvals` or, if columns are non-unique, `df.isetitem(i, newvals)`\n",
      "\n",
      "c:\\Users\\alex\\Desktop\\Experiments\\FLAML\\.venv\\lib\\site-packages\\explainerdashboard\\explainer_methods.py:791: FutureWarning:\n",
      "\n",
      "In a future version, `df.iloc[:, i] = newvals` will attempt to set the values inplace instead of always setting a new array. To retain the old behavior, use either `df[df.columns[i]] = newvals` or, if columns are non-unique, `df.isetitem(i, newvals)`\n",
      "\n",
      "127.0.0.1 - - [18/Jan/2023 13:24:25] \"POST /_dash-update-component HTTP/1.1\" 200 -\n",
      "127.0.0.1 - - [18/Jan/2023 13:24:25] \"POST /_dash-update-component HTTP/1.1\" 200 -\n",
      "127.0.0.1 - - [18/Jan/2023 13:24:25] \"POST /_dash-update-component HTTP/1.1\" 200 -\n",
      "127.0.0.1 - - [18/Jan/2023 13:24:25] \"POST /_dash-update-component HTTP/1.1\" 200 -\n",
      "127.0.0.1 - - [18/Jan/2023 13:24:25] \"POST /_dash-update-component HTTP/1.1\" 200 -\n",
      "c:\\Users\\alex\\Desktop\\Experiments\\FLAML\\.venv\\lib\\site-packages\\explainerdashboard\\explainer_methods.py:791: FutureWarning:\n",
      "\n",
      "In a future version, `df.iloc[:, i] = newvals` will attempt to set the values inplace instead of always setting a new array. To retain the old behavior, use either `df[df.columns[i]] = newvals` or, if columns are non-unique, `df.isetitem(i, newvals)`\n",
      "\n",
      "c:\\Users\\alex\\Desktop\\Experiments\\FLAML\\.venv\\lib\\site-packages\\explainerdashboard\\explainer_methods.py:791: FutureWarning:\n",
      "\n",
      "In a future version, `df.iloc[:, i] = newvals` will attempt to set the values inplace instead of always setting a new array. To retain the old behavior, use either `df[df.columns[i]] = newvals` or, if columns are non-unique, `df.isetitem(i, newvals)`\n",
      "\n",
      "127.0.0.1 - - [18/Jan/2023 13:24:25] \"POST /_dash-update-component HTTP/1.1\" 200 -\n",
      "127.0.0.1 - - [18/Jan/2023 13:24:25] \"POST /_dash-update-component HTTP/1.1\" 200 -\n",
      "127.0.0.1 - - [18/Jan/2023 13:24:26] \"POST /_dash-update-component HTTP/1.1\" 200 -\n",
      "127.0.0.1 - - [18/Jan/2023 13:24:26] \"POST /_dash-update-component HTTP/1.1\" 200 -\n",
      "127.0.0.1 - - [18/Jan/2023 13:24:26] \"POST /_dash-update-component HTTP/1.1\" 200 -\n",
      "c:\\Users\\alex\\Desktop\\Experiments\\FLAML\\.venv\\lib\\site-packages\\explainerdashboard\\explainer_methods.py:791: FutureWarning:\n",
      "\n",
      "In a future version, `df.iloc[:, i] = newvals` will attempt to set the values inplace instead of always setting a new array. To retain the old behavior, use either `df[df.columns[i]] = newvals` or, if columns are non-unique, `df.isetitem(i, newvals)`\n",
      "\n",
      "127.0.0.1 - - [18/Jan/2023 13:24:26] \"GET /_dash-component-suites/dash/dcc/async-graph.js HTTP/1.1\" 200 -\n",
      "c:\\Users\\alex\\Desktop\\Experiments\\FLAML\\.venv\\lib\\site-packages\\explainerdashboard\\explainer_methods.py:791: FutureWarning:\n",
      "\n",
      "In a future version, `df.iloc[:, i] = newvals` will attempt to set the values inplace instead of always setting a new array. To retain the old behavior, use either `df[df.columns[i]] = newvals` or, if columns are non-unique, `df.isetitem(i, newvals)`\n",
      "\n",
      "127.0.0.1 - - [18/Jan/2023 13:24:26] \"POST /_dash-update-component HTTP/1.1\" 200 -\n",
      "127.0.0.1 - - [18/Jan/2023 13:24:26] \"GET /_dash-component-suites/dash/dcc/async-plotlyjs.js HTTP/1.1\" 200 -\n",
      "c:\\Users\\alex\\Desktop\\Experiments\\FLAML\\.venv\\lib\\site-packages\\explainerdashboard\\explainer_methods.py:791: FutureWarning:\n",
      "\n",
      "In a future version, `df.iloc[:, i] = newvals` will attempt to set the values inplace instead of always setting a new array. To retain the old behavior, use either `df[df.columns[i]] = newvals` or, if columns are non-unique, `df.isetitem(i, newvals)`\n",
      "\n",
      "c:\\Users\\alex\\Desktop\\Experiments\\FLAML\\.venv\\lib\\site-packages\\explainerdashboard\\explainer_methods.py:791: FutureWarning:\n",
      "\n",
      "In a future version, `df.iloc[:, i] = newvals` will attempt to set the values inplace instead of always setting a new array. To retain the old behavior, use either `df[df.columns[i]] = newvals` or, if columns are non-unique, `df.isetitem(i, newvals)`\n",
      "\n",
      "127.0.0.1 - - [18/Jan/2023 13:24:27] \"POST /_dash-update-component HTTP/1.1\" 200 -\n",
      "c:\\Users\\alex\\Desktop\\Experiments\\FLAML\\.venv\\lib\\site-packages\\explainerdashboard\\explainer_methods.py:791: FutureWarning:\n",
      "\n",
      "In a future version, `df.iloc[:, i] = newvals` will attempt to set the values inplace instead of always setting a new array. To retain the old behavior, use either `df[df.columns[i]] = newvals` or, if columns are non-unique, `df.isetitem(i, newvals)`\n",
      "\n",
      "127.0.0.1 - - [18/Jan/2023 13:24:27] \"POST /_dash-update-component HTTP/1.1\" 200 -\n",
      "127.0.0.1 - - [18/Jan/2023 13:24:27] \"POST /_dash-update-component HTTP/1.1\" 200 -\n"
     ]
    }
   ],
   "source": [
    "dashboard.run(8045)"
   ]
  }
 ],
 "metadata": {
  "kernelspec": {
   "display_name": "Python 3.9.12 ('.venv': venv)",
   "language": "python",
   "name": "python3"
  },
  "language_info": {
   "codemirror_mode": {
    "name": "ipython",
    "version": 3
   },
   "file_extension": ".py",
   "mimetype": "text/x-python",
   "name": "python",
   "nbconvert_exporter": "python",
   "pygments_lexer": "ipython3",
   "version": "3.9.12"
  },
  "orig_nbformat": 4,
  "vscode": {
   "interpreter": {
    "hash": "e21738e886a40d2d0f94297aaa90a23388a7735bc5ad1f7e34b91cb5b9e4c59c"
   }
  }
 },
 "nbformat": 4,
 "nbformat_minor": 2
}

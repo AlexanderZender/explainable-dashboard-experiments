{
 "cells": [
  {
   "cell_type": "code",
   "execution_count": 10,
   "metadata": {},
   "outputs": [],
   "source": [
    "from explainerdashboard import ClassifierExplainer, ExplainerDashboard\n",
    "from explainerdashboard.datasets import titanic_survive\n",
    "from autokeras_wrapper import AutoKerasWrapper\n",
    "import autokeras as ak\n",
    "from sklearn.model_selection import train_test_split\n",
    "import pandas as pd\n",
    "import numpy as np\n",
    "from sklearn.preprocessing import OrdinalEncoder"
   ]
  },
  {
   "cell_type": "code",
   "execution_count": 13,
   "metadata": {},
   "outputs": [
    {
     "name": "stdout",
     "output_type": "stream",
     "text": [
      "Trial 3 Complete [00h 00m 03s]\n",
      "val_accuracy: 0.27586206793785095\n",
      "\n",
      "Best val_accuracy So Far: 0.4482758641242981\n",
      "Total elapsed time: 00h 00m 07s\n",
      "INFO:tensorflow:Oracle triggered exit\n",
      "9/9 [==============================] - 1s 17ms/step - loss: 2.1612 - accuracy: 0.3263\n",
      "INFO:tensorflow:Assets written to: .\\structured_data_classifier\\best_model\\assets\n"
     ]
    }
   ],
   "source": [
    "data = pd.read_csv(\"./Pizza.csv\")\n",
    "enc = OrdinalEncoder(dtype=np.int32)\n",
    "enc.fit(data[[\"brand\"]])\n",
    "data[[\"brand\"]] = enc.transform(data[[\"brand\"]])\n",
    "X = data.drop([\"brand\"], axis=1)\n",
    "y = data[\"brand\"]\n",
    "X_train, X_test, y_train, y_test = train_test_split(X, y, test_size=0.05)\n",
    "automl = ak.StructuredDataClassifier(overwrite=True,\n",
    "                                          max_trials=3,\n",
    "                                          seed=42)\n",
    "automl.fit(x=X_train, y=y_train, epochs=1)\n",
    "\n",
    "wrapper = AutoKerasWrapper(automl)"
   ]
  },
  {
   "cell_type": "code",
   "execution_count": 14,
   "metadata": {},
   "outputs": [
    {
     "name": "stdout",
     "output_type": "stream",
     "text": [
      "WARNING: Parameter shap='guess', but failed to guess the type of shap explainer to use for AutoKerasWrapper. Defaulting to the model agnostic shap.KernelExplainer (shap='kernel'). However this will be slow, so if your model is compatible with e.g. shap.TreeExplainer or shap.LinearExplainer then pass shap='tree' or shap='linear'!\n",
      "WARNING: For shap='kernel', shap interaction values can unfortunately not be calculated!\n",
      "Note: shap values for shap='kernel' normally get calculated against X_background, but paramater X_background=None, so setting X_background=shap.sample(X, 50)...\n",
      "Generating self.shap_explainer = shap.KernelExplainer(model, X, link='identity')\n",
      "1/1 [==============================] - 0s 177ms/step\n",
      "Building ExplainerDashboard..\n",
      "Detected notebook environment, consider setting mode='external', mode='inline' or mode='jupyterlab' to keep the notebook interactive while the dashboard is running...\n",
      "For this type of model and model_output interactions don't work, so setting shap_interaction=False...\n",
      "The explainer object has no decision_trees property. so setting decision_trees=False...\n",
      "Generating layout...\n",
      "Calculating shap values...\n"
     ]
    },
    {
     "name": "stderr",
     "output_type": "stream",
     "text": [
      "  0%|          | 0/15 [00:00<?, ?it/s]"
     ]
    },
    {
     "name": "stdout",
     "output_type": "stream",
     "text": [
      "1/1 [==============================] - 0s 153ms/step\n",
      "120/120 [==============================] - 1s 4ms/step\n"
     ]
    },
    {
     "name": "stderr",
     "output_type": "stream",
     "text": [
      "  7%|▋         | 1/15 [00:02<00:29,  2.09s/it]"
     ]
    },
    {
     "name": "stdout",
     "output_type": "stream",
     "text": [
      "1/1 [==============================] - 0s 131ms/step\n",
      "120/120 [==============================] - 1s 4ms/step\n"
     ]
    },
    {
     "name": "stderr",
     "output_type": "stream",
     "text": [
      " 13%|█▎        | 2/15 [00:04<00:26,  2.07s/it]"
     ]
    },
    {
     "name": "stdout",
     "output_type": "stream",
     "text": [
      "1/1 [==============================] - 0s 131ms/step\n",
      "120/120 [==============================] - 1s 4ms/step\n"
     ]
    },
    {
     "name": "stderr",
     "output_type": "stream",
     "text": [
      " 20%|██        | 3/15 [00:06<00:24,  2.04s/it]"
     ]
    },
    {
     "name": "stdout",
     "output_type": "stream",
     "text": [
      "1/1 [==============================] - 0s 140ms/step\n",
      "120/120 [==============================] - 1s 5ms/step\n"
     ]
    },
    {
     "name": "stderr",
     "output_type": "stream",
     "text": [
      " 27%|██▋       | 4/15 [00:08<00:22,  2.08s/it]"
     ]
    },
    {
     "name": "stdout",
     "output_type": "stream",
     "text": [
      "1/1 [==============================] - 0s 130ms/step\n",
      "120/120 [==============================] - 1s 5ms/step\n"
     ]
    },
    {
     "name": "stderr",
     "output_type": "stream",
     "text": [
      " 33%|███▎      | 5/15 [00:11<00:23,  2.32s/it]"
     ]
    },
    {
     "name": "stdout",
     "output_type": "stream",
     "text": [
      "1/1 [==============================] - 0s 129ms/step\n",
      "120/120 [==============================] - 1s 5ms/step\n"
     ]
    },
    {
     "name": "stderr",
     "output_type": "stream",
     "text": [
      " 40%|████      | 6/15 [00:13<00:20,  2.25s/it]"
     ]
    },
    {
     "name": "stdout",
     "output_type": "stream",
     "text": [
      "1/1 [==============================] - 0s 130ms/step\n",
      "120/120 [==============================] - 1s 5ms/step\n"
     ]
    },
    {
     "name": "stderr",
     "output_type": "stream",
     "text": [
      " 47%|████▋     | 7/15 [00:15<00:17,  2.21s/it]"
     ]
    },
    {
     "name": "stdout",
     "output_type": "stream",
     "text": [
      "1/1 [==============================] - 0s 132ms/step\n",
      "120/120 [==============================] - 1s 5ms/step\n"
     ]
    },
    {
     "name": "stderr",
     "output_type": "stream",
     "text": [
      " 53%|█████▎    | 8/15 [00:17<00:15,  2.18s/it]"
     ]
    },
    {
     "name": "stdout",
     "output_type": "stream",
     "text": [
      "1/1 [==============================] - 0s 130ms/step\n",
      "120/120 [==============================] - 1s 5ms/step\n"
     ]
    },
    {
     "name": "stderr",
     "output_type": "stream",
     "text": [
      " 60%|██████    | 9/15 [00:19<00:12,  2.15s/it]"
     ]
    },
    {
     "name": "stdout",
     "output_type": "stream",
     "text": [
      "1/1 [==============================] - 0s 125ms/step\n",
      "120/120 [==============================] - 1s 4ms/step\n"
     ]
    },
    {
     "name": "stderr",
     "output_type": "stream",
     "text": [
      " 67%|██████▋   | 10/15 [00:21<00:10,  2.11s/it]"
     ]
    },
    {
     "name": "stdout",
     "output_type": "stream",
     "text": [
      "1/1 [==============================] - 0s 134ms/step\n",
      "120/120 [==============================] - 1s 5ms/step\n"
     ]
    },
    {
     "name": "stderr",
     "output_type": "stream",
     "text": [
      " 73%|███████▎  | 11/15 [00:24<00:09,  2.32s/it]"
     ]
    },
    {
     "name": "stdout",
     "output_type": "stream",
     "text": [
      "1/1 [==============================] - 0s 134ms/step\n",
      "120/120 [==============================] - 1s 5ms/step\n"
     ]
    },
    {
     "name": "stderr",
     "output_type": "stream",
     "text": [
      " 80%|████████  | 12/15 [00:26<00:06,  2.28s/it]"
     ]
    },
    {
     "name": "stdout",
     "output_type": "stream",
     "text": [
      "1/1 [==============================] - 0s 127ms/step\n",
      "120/120 [==============================] - 1s 5ms/step\n"
     ]
    },
    {
     "name": "stderr",
     "output_type": "stream",
     "text": [
      " 87%|████████▋ | 13/15 [00:28<00:04,  2.22s/it]"
     ]
    },
    {
     "name": "stdout",
     "output_type": "stream",
     "text": [
      "1/1 [==============================] - 0s 129ms/step\n",
      "120/120 [==============================] - 1s 5ms/step\n"
     ]
    },
    {
     "name": "stderr",
     "output_type": "stream",
     "text": [
      " 93%|█████████▎| 14/15 [00:30<00:02,  2.18s/it]"
     ]
    },
    {
     "name": "stdout",
     "output_type": "stream",
     "text": [
      "1/1 [==============================] - 0s 127ms/step\n",
      "120/120 [==============================] - 1s 4ms/step\n"
     ]
    },
    {
     "name": "stderr",
     "output_type": "stream",
     "text": [
      "100%|██████████| 15/15 [00:32<00:00,  2.18s/it]"
     ]
    },
    {
     "name": "stdout",
     "output_type": "stream",
     "text": [
      "Calculating prediction probabilities...\n"
     ]
    },
    {
     "name": "stderr",
     "output_type": "stream",
     "text": [
      "\n"
     ]
    },
    {
     "name": "stdout",
     "output_type": "stream",
     "text": [
      "1/1 [==============================] - 0s 124ms/step\n",
      "Calculating metrics...\n"
     ]
    },
    {
     "ename": "IndexError",
     "evalue": "list index out of range",
     "output_type": "error",
     "traceback": [
      "\u001b[1;31m---------------------------------------------------------------------------\u001b[0m",
      "\u001b[1;31mIndexError\u001b[0m                                Traceback (most recent call last)",
      "Cell \u001b[1;32mIn[14], line 1\u001b[0m\n\u001b[1;32m----> 1\u001b[0m dashboard \u001b[38;5;241m=\u001b[39m \u001b[43mExplainerDashboard\u001b[49m\u001b[43m(\u001b[49m\u001b[43mClassifierExplainer\u001b[49m\u001b[43m(\u001b[49m\u001b[43mwrapper\u001b[49m\u001b[43m,\u001b[49m\u001b[43m \u001b[49m\u001b[43mX_test\u001b[49m\u001b[43m,\u001b[49m\u001b[43m \u001b[49m\u001b[43my_test\u001b[49m\u001b[43m,\u001b[49m\u001b[43m \u001b[49m\u001b[43mlabels\u001b[49m\u001b[38;5;241;43m=\u001b[39;49m\u001b[43menc\u001b[49m\u001b[38;5;241;43m.\u001b[39;49m\u001b[43mcategories_\u001b[49m\u001b[43m[\u001b[49m\u001b[38;5;241;43m0\u001b[39;49m\u001b[43m]\u001b[49m\u001b[38;5;241;43m.\u001b[39;49m\u001b[43mtolist\u001b[49m\u001b[43m(\u001b[49m\u001b[43m)\u001b[49m\u001b[43m)\u001b[49m\u001b[43m)\u001b[49m\n",
      "File \u001b[1;32mc:\\Users\\alex\\Desktop\\Experiments\\AutoKeras\\.venv\\lib\\site-packages\\explainerdashboard\\dashboards.py:591\u001b[0m, in \u001b[0;36mExplainerDashboard.__init__\u001b[1;34m(self, explainer, tabs, title, name, description, simple, hide_header, header_hide_title, header_hide_selector, header_hide_download, hide_poweredby, block_selector_callbacks, pos_label, fluid, mode, width, height, bootstrap, external_stylesheets, server, url_base_pathname, routes_pathname_prefix, requests_pathname_prefix, responsive, logins, port, importances, model_summary, contributions, whatif, shap_dependence, shap_interaction, decision_trees, **kwargs)\u001b[0m\n\u001b[0;32m    589\u001b[0m \u001b[39mif\u001b[39;00m \u001b[39misinstance\u001b[39m(tabs, \u001b[39mlist\u001b[39m):\n\u001b[0;32m    590\u001b[0m     tabs \u001b[39m=\u001b[39m [\u001b[39mself\u001b[39m\u001b[39m.\u001b[39m_convert_str_tabs(tab) \u001b[39mfor\u001b[39;00m tab \u001b[39min\u001b[39;00m tabs]\n\u001b[1;32m--> 591\u001b[0m     \u001b[39mself\u001b[39m\u001b[39m.\u001b[39mexplainer_layout \u001b[39m=\u001b[39m ExplainerTabsLayout(explainer, tabs, title, \n\u001b[0;32m    592\u001b[0m                     description\u001b[39m=\u001b[39m\u001b[39mself\u001b[39m\u001b[39m.\u001b[39mdescription,\n\u001b[0;32m    593\u001b[0m                     \u001b[39m*\u001b[39m\u001b[39m*\u001b[39mupdate_kwargs(kwargs, \n\u001b[0;32m    594\u001b[0m                         header_hide_title\u001b[39m=\u001b[39m\u001b[39mself\u001b[39m\u001b[39m.\u001b[39mheader_hide_title, \n\u001b[0;32m    595\u001b[0m                         header_hide_selector\u001b[39m=\u001b[39m\u001b[39mself\u001b[39m\u001b[39m.\u001b[39mheader_hide_selector, \n\u001b[0;32m    596\u001b[0m                         header_hide_download\u001b[39m=\u001b[39m\u001b[39mself\u001b[39m\u001b[39m.\u001b[39mheader_hide_download, \n\u001b[0;32m    597\u001b[0m                         hide_poweredby\u001b[39m=\u001b[39m\u001b[39mself\u001b[39m\u001b[39m.\u001b[39mhide_poweredby,\n\u001b[0;32m    598\u001b[0m                         block_selector_callbacks\u001b[39m=\u001b[39m\u001b[39mself\u001b[39m\u001b[39m.\u001b[39mblock_selector_callbacks,\n\u001b[0;32m    599\u001b[0m                         pos_label\u001b[39m=\u001b[39m\u001b[39mself\u001b[39m\u001b[39m.\u001b[39mpos_label,\n\u001b[0;32m    600\u001b[0m                         fluid\u001b[39m=\u001b[39mfluid))\n\u001b[0;32m    601\u001b[0m \u001b[39melse\u001b[39;00m:\n\u001b[0;32m    602\u001b[0m     tabs \u001b[39m=\u001b[39m \u001b[39mself\u001b[39m\u001b[39m.\u001b[39m_convert_str_tabs(tabs)\n",
      "File \u001b[1;32mc:\\Users\\alex\\Desktop\\Experiments\\AutoKeras\\.venv\\lib\\site-packages\\explainerdashboard\\dashboards.py:108\u001b[0m, in \u001b[0;36mExplainerTabsLayout.__init__\u001b[1;34m(self, explainer, tabs, title, name, description, header_hide_title, header_hide_selector, header_hide_download, hide_poweredby, block_selector_callbacks, pos_label, fluid, **kwargs)\u001b[0m\n\u001b[0;32m    104\u001b[0m \u001b[39massert\u001b[39;00m \u001b[39mlen\u001b[39m(\u001b[39mself\u001b[39m\u001b[39m.\u001b[39mtabs) \u001b[39m>\u001b[39m \u001b[39m0\u001b[39m, \u001b[39m'\u001b[39m\u001b[39mWhen passing a list to tabs, need to pass at least one valid tab!\u001b[39m\u001b[39m'\u001b[39m\n\u001b[0;32m    106\u001b[0m \u001b[39mself\u001b[39m\u001b[39m.\u001b[39mregister_components(\u001b[39m*\u001b[39m\u001b[39mself\u001b[39m\u001b[39m.\u001b[39mtabs)\n\u001b[1;32m--> 108\u001b[0m \u001b[39mself\u001b[39m\u001b[39m.\u001b[39mdownloadable_tabs \u001b[39m=\u001b[39m [tab \u001b[39mfor\u001b[39;00m tab \u001b[39min\u001b[39;00m \u001b[39mself\u001b[39m\u001b[39m.\u001b[39mtabs \u001b[39mif\u001b[39;00m tab\u001b[39m.\u001b[39mto_html(add_header\u001b[39m=\u001b[39m\u001b[39mFalse\u001b[39;00m) \u001b[39m!=\u001b[39m \u001b[39m\"\u001b[39m\u001b[39m<div></div>\u001b[39m\u001b[39m\"\u001b[39m]\n\u001b[0;32m    109\u001b[0m \u001b[39mif\u001b[39;00m \u001b[39mnot\u001b[39;00m \u001b[39mself\u001b[39m\u001b[39m.\u001b[39mdownloadable_tabs:\n\u001b[0;32m    110\u001b[0m     \u001b[39mself\u001b[39m\u001b[39m.\u001b[39mheader_hide_download \u001b[39m=\u001b[39m \u001b[39mTrue\u001b[39;00m\n",
      "File \u001b[1;32mc:\\Users\\alex\\Desktop\\Experiments\\AutoKeras\\.venv\\lib\\site-packages\\explainerdashboard\\dashboards.py:108\u001b[0m, in \u001b[0;36m<listcomp>\u001b[1;34m(.0)\u001b[0m\n\u001b[0;32m    104\u001b[0m \u001b[39massert\u001b[39;00m \u001b[39mlen\u001b[39m(\u001b[39mself\u001b[39m\u001b[39m.\u001b[39mtabs) \u001b[39m>\u001b[39m \u001b[39m0\u001b[39m, \u001b[39m'\u001b[39m\u001b[39mWhen passing a list to tabs, need to pass at least one valid tab!\u001b[39m\u001b[39m'\u001b[39m\n\u001b[0;32m    106\u001b[0m \u001b[39mself\u001b[39m\u001b[39m.\u001b[39mregister_components(\u001b[39m*\u001b[39m\u001b[39mself\u001b[39m\u001b[39m.\u001b[39mtabs)\n\u001b[1;32m--> 108\u001b[0m \u001b[39mself\u001b[39m\u001b[39m.\u001b[39mdownloadable_tabs \u001b[39m=\u001b[39m [tab \u001b[39mfor\u001b[39;00m tab \u001b[39min\u001b[39;00m \u001b[39mself\u001b[39m\u001b[39m.\u001b[39mtabs \u001b[39mif\u001b[39;00m tab\u001b[39m.\u001b[39;49mto_html(add_header\u001b[39m=\u001b[39;49m\u001b[39mFalse\u001b[39;49;00m) \u001b[39m!=\u001b[39m \u001b[39m\"\u001b[39m\u001b[39m<div></div>\u001b[39m\u001b[39m\"\u001b[39m]\n\u001b[0;32m    109\u001b[0m \u001b[39mif\u001b[39;00m \u001b[39mnot\u001b[39;00m \u001b[39mself\u001b[39m\u001b[39m.\u001b[39mdownloadable_tabs:\n\u001b[0;32m    110\u001b[0m     \u001b[39mself\u001b[39m\u001b[39m.\u001b[39mheader_hide_download \u001b[39m=\u001b[39m \u001b[39mTrue\u001b[39;00m\n",
      "File \u001b[1;32mc:\\Users\\alex\\Desktop\\Experiments\\AutoKeras\\.venv\\lib\\site-packages\\explainerdashboard\\dashboard_components\\composites.py:197\u001b[0m, in \u001b[0;36mClassifierModelStatsComposite.to_html\u001b[1;34m(self, state_dict, add_header)\u001b[0m\n\u001b[0;32m    194\u001b[0m \u001b[39mdef\u001b[39;00m \u001b[39mto_html\u001b[39m(\u001b[39mself\u001b[39m, state_dict\u001b[39m=\u001b[39m\u001b[39mNone\u001b[39;00m, add_header\u001b[39m=\u001b[39m\u001b[39mTrue\u001b[39;00m):\n\u001b[0;32m    195\u001b[0m     html \u001b[39m=\u001b[39m to_html\u001b[39m.\u001b[39mhide(to_html\u001b[39m.\u001b[39mtitle(\u001b[39mself\u001b[39m\u001b[39m.\u001b[39mtitle), hide\u001b[39m=\u001b[39m\u001b[39mself\u001b[39m\u001b[39m.\u001b[39mhide_title)\n\u001b[0;32m    196\u001b[0m     html \u001b[39m+\u001b[39m\u001b[39m=\u001b[39m to_html\u001b[39m.\u001b[39mcard_rows(\n\u001b[1;32m--> 197\u001b[0m         [to_html\u001b[39m.\u001b[39mhide(\u001b[39mself\u001b[39;49m\u001b[39m.\u001b[39;49msummary\u001b[39m.\u001b[39;49mto_html(state_dict, add_header\u001b[39m=\u001b[39;49m\u001b[39mFalse\u001b[39;49;00m), hide\u001b[39m=\u001b[39m\u001b[39mself\u001b[39m\u001b[39m.\u001b[39mhide_modelsummary),\n\u001b[0;32m    198\u001b[0m          to_html\u001b[39m.\u001b[39mhide(\u001b[39mself\u001b[39m\u001b[39m.\u001b[39mconfusionmatrix\u001b[39m.\u001b[39mto_html(state_dict, add_header\u001b[39m=\u001b[39m\u001b[39mFalse\u001b[39;00m), hide\u001b[39m=\u001b[39m\u001b[39mself\u001b[39m\u001b[39m.\u001b[39mhide_confusionmatrix)],\n\u001b[0;32m    199\u001b[0m         [to_html\u001b[39m.\u001b[39mhide(\u001b[39mself\u001b[39m\u001b[39m.\u001b[39mprecision\u001b[39m.\u001b[39mto_html(state_dict, add_header\u001b[39m=\u001b[39m\u001b[39mFalse\u001b[39;00m), hide\u001b[39m=\u001b[39m\u001b[39mself\u001b[39m\u001b[39m.\u001b[39mhide_precision), \n\u001b[0;32m    200\u001b[0m          to_html\u001b[39m.\u001b[39mhide(\u001b[39mself\u001b[39m\u001b[39m.\u001b[39mclassification\u001b[39m.\u001b[39mto_html(state_dict, add_header\u001b[39m=\u001b[39m\u001b[39mFalse\u001b[39;00m), hide\u001b[39m=\u001b[39m\u001b[39mself\u001b[39m\u001b[39m.\u001b[39mhide_classification)],\n\u001b[0;32m    201\u001b[0m         [to_html\u001b[39m.\u001b[39mhide(\u001b[39mself\u001b[39m\u001b[39m.\u001b[39mrocauc\u001b[39m.\u001b[39mto_html(state_dict, add_header\u001b[39m=\u001b[39m\u001b[39mFalse\u001b[39;00m), hide\u001b[39m=\u001b[39m\u001b[39mself\u001b[39m\u001b[39m.\u001b[39mhide_rocauc),\n\u001b[0;32m    202\u001b[0m          to_html\u001b[39m.\u001b[39mhide(\u001b[39mself\u001b[39m\u001b[39m.\u001b[39mprauc\u001b[39m.\u001b[39mto_html(state_dict, add_header\u001b[39m=\u001b[39m\u001b[39mFalse\u001b[39;00m), hide\u001b[39m=\u001b[39m\u001b[39mself\u001b[39m\u001b[39m.\u001b[39mhide_prauc)],\n\u001b[0;32m    203\u001b[0m         [to_html\u001b[39m.\u001b[39mhide(\u001b[39mself\u001b[39m\u001b[39m.\u001b[39mliftcurve\u001b[39m.\u001b[39mto_html(state_dict, add_header\u001b[39m=\u001b[39m\u001b[39mFalse\u001b[39;00m), hide\u001b[39m=\u001b[39m\u001b[39mself\u001b[39m\u001b[39m.\u001b[39mhide_liftcurve),\n\u001b[0;32m    204\u001b[0m          to_html\u001b[39m.\u001b[39mhide(\u001b[39mself\u001b[39m\u001b[39m.\u001b[39mcumulative_precision\u001b[39m.\u001b[39mto_html(state_dict, add_header\u001b[39m=\u001b[39m\u001b[39mFalse\u001b[39;00m), hide\u001b[39m=\u001b[39m\u001b[39mself\u001b[39m\u001b[39m.\u001b[39mhide_cumprecision)]\n\u001b[0;32m    205\u001b[0m     )\n\u001b[0;32m    206\u001b[0m     \u001b[39mif\u001b[39;00m add_header:\n\u001b[0;32m    207\u001b[0m         \u001b[39mreturn\u001b[39;00m to_html\u001b[39m.\u001b[39madd_header(html)\n",
      "File \u001b[1;32mc:\\Users\\alex\\Desktop\\Experiments\\AutoKeras\\.venv\\lib\\site-packages\\explainerdashboard\\dashboard_components\\classifier_components.py:1633\u001b[0m, in \u001b[0;36mClassifierModelSummaryComponent.to_html\u001b[1;34m(self, state_dict, add_header)\u001b[0m\n\u001b[0;32m   1631\u001b[0m \u001b[39mdef\u001b[39;00m \u001b[39mto_html\u001b[39m(\u001b[39mself\u001b[39m, state_dict\u001b[39m=\u001b[39m\u001b[39mNone\u001b[39;00m, add_header\u001b[39m=\u001b[39m\u001b[39mTrue\u001b[39;00m):\n\u001b[0;32m   1632\u001b[0m     args \u001b[39m=\u001b[39m \u001b[39mself\u001b[39m\u001b[39m.\u001b[39mget_state_args(state_dict)\n\u001b[1;32m-> 1633\u001b[0m     metrics_df \u001b[39m=\u001b[39m \u001b[39mself\u001b[39;49m\u001b[39m.\u001b[39;49m_get_metrics_df(args[\u001b[39m'\u001b[39;49m\u001b[39mcutoff\u001b[39;49m\u001b[39m'\u001b[39;49m], args[\u001b[39m'\u001b[39;49m\u001b[39mpos_label\u001b[39;49m\u001b[39m'\u001b[39;49m])\n\u001b[0;32m   1634\u001b[0m     html \u001b[39m=\u001b[39m to_html\u001b[39m.\u001b[39mtable_from_df(metrics_df)\n\u001b[0;32m   1635\u001b[0m     html \u001b[39m=\u001b[39m to_html\u001b[39m.\u001b[39mcard(html, title\u001b[39m=\u001b[39m\u001b[39mself\u001b[39m\u001b[39m.\u001b[39mtitle)\n",
      "File \u001b[1;32mc:\\Users\\alex\\Desktop\\Experiments\\AutoKeras\\.venv\\lib\\site-packages\\explainerdashboard\\dashboard_components\\classifier_components.py:1642\u001b[0m, in \u001b[0;36mClassifierModelSummaryComponent._get_metrics_df\u001b[1;34m(self, cutoff, pos_label)\u001b[0m\n\u001b[0;32m   1640\u001b[0m \u001b[39mdef\u001b[39;00m \u001b[39m_get_metrics_df\u001b[39m(\u001b[39mself\u001b[39m, cutoff, pos_label):\n\u001b[0;32m   1641\u001b[0m     metrics_df \u001b[39m=\u001b[39m (pd\u001b[39m.\u001b[39mDataFrame(\n\u001b[1;32m-> 1642\u001b[0m                             \u001b[39mself\u001b[39;49m\u001b[39m.\u001b[39;49mexplainer\u001b[39m.\u001b[39;49mmetrics(cutoff\u001b[39m=\u001b[39;49mcutoff, pos_label\u001b[39m=\u001b[39;49mpos_label, \n\u001b[0;32m   1643\u001b[0m                                                     show_metrics\u001b[39m=\u001b[39;49m\u001b[39mself\u001b[39;49m\u001b[39m.\u001b[39;49mshow_metrics), \n\u001b[0;32m   1644\u001b[0m                             index\u001b[39m=\u001b[39m[\u001b[39m\"\u001b[39m\u001b[39mScore\u001b[39m\u001b[39m\"\u001b[39m])\n\u001b[0;32m   1645\u001b[0m                           \u001b[39m.\u001b[39mT\u001b[39m.\u001b[39mrename_axis(index\u001b[39m=\u001b[39m\u001b[39m\"\u001b[39m\u001b[39mmetric\u001b[39m\u001b[39m\"\u001b[39m)\u001b[39m.\u001b[39mreset_index()\n\u001b[0;32m   1646\u001b[0m                           \u001b[39m.\u001b[39mround(\u001b[39mself\u001b[39m\u001b[39m.\u001b[39mround))\n\u001b[0;32m   1647\u001b[0m     \u001b[39mreturn\u001b[39;00m metrics_df\n",
      "File \u001b[1;32mc:\\Users\\alex\\Desktop\\Experiments\\AutoKeras\\.venv\\lib\\site-packages\\explainerdashboard\\explainers.py:61\u001b[0m, in \u001b[0;36minsert_pos_label.<locals>.inner\u001b[1;34m(self, *args, **kwargs)\u001b[0m\n\u001b[0;32m     58\u001b[0m     \u001b[39melse\u001b[39;00m:  \n\u001b[0;32m     59\u001b[0m         \u001b[39m# insert self.pos_label \u001b[39;00m\n\u001b[0;32m     60\u001b[0m         kwargs\u001b[39m.\u001b[39mupdate(\u001b[39mdict\u001b[39m(pos_label\u001b[39m=\u001b[39m\u001b[39mself\u001b[39m\u001b[39m.\u001b[39mpos_label))\n\u001b[1;32m---> 61\u001b[0m         \u001b[39mreturn\u001b[39;00m func(\u001b[39mself\u001b[39m, \u001b[39m*\u001b[39margs, \u001b[39m*\u001b[39m\u001b[39m*\u001b[39mkwargs)\n\u001b[0;32m     62\u001b[0m kwargs\u001b[39m.\u001b[39mupdate(\u001b[39mdict\u001b[39m(\u001b[39mzip\u001b[39m(inspect\u001b[39m.\u001b[39mgetfullargspec(func)\u001b[39m.\u001b[39margs[\u001b[39m1\u001b[39m:\u001b[39m1\u001b[39m\u001b[39m+\u001b[39m\u001b[39mlen\u001b[39m(args)], args)))\n\u001b[0;32m     63\u001b[0m \u001b[39mif\u001b[39;00m \u001b[39m'\u001b[39m\u001b[39mpos_label\u001b[39m\u001b[39m'\u001b[39m \u001b[39min\u001b[39;00m kwargs:\n",
      "File \u001b[1;32mc:\\Users\\alex\\Desktop\\Experiments\\AutoKeras\\.venv\\lib\\site-packages\\explainerdashboard\\explainers.py:2588\u001b[0m, in \u001b[0;36mClassifierExplainer.metrics\u001b[1;34m(self, cutoff, show_metrics, pos_label)\u001b[0m\n\u001b[0;32m   2585\u001b[0m         \u001b[39mself\u001b[39m\u001b[39m.\u001b[39m_metrics[label] \u001b[39m=\u001b[39m \u001b[39mdict\u001b[39m()\n\u001b[0;32m   2586\u001b[0m         \u001b[39mfor\u001b[39;00m cut \u001b[39min\u001b[39;00m np\u001b[39m.\u001b[39mlinspace(\u001b[39m1\u001b[39m, \u001b[39m99\u001b[39m, \u001b[39m99\u001b[39m, dtype\u001b[39m=\u001b[39m\u001b[39mint\u001b[39m):\n\u001b[0;32m   2587\u001b[0m             \u001b[39mself\u001b[39m\u001b[39m.\u001b[39m_metrics[label][cut] \u001b[39m=\u001b[39m \\\n\u001b[1;32m-> 2588\u001b[0m                 get_metrics(\u001b[39m0.01\u001b[39;49m\u001b[39m*\u001b[39;49mcut, label)\n\u001b[0;32m   2589\u001b[0m \u001b[39melse\u001b[39;00m:\n\u001b[0;32m   2590\u001b[0m     \u001b[39mself\u001b[39m\u001b[39m.\u001b[39m_metrics \u001b[39m=\u001b[39m get_cv_metrics(\u001b[39mself\u001b[39m\u001b[39m.\u001b[39mcv)\n",
      "File \u001b[1;32mc:\\Users\\alex\\Desktop\\Experiments\\AutoKeras\\.venv\\lib\\site-packages\\explainerdashboard\\explainers.py:2531\u001b[0m, in \u001b[0;36mClassifierExplainer.metrics.<locals>.get_metrics\u001b[1;34m(cutoff, pos_label)\u001b[0m\n\u001b[0;32m   2530\u001b[0m \u001b[39mdef\u001b[39;00m \u001b[39mget_metrics\u001b[39m(cutoff, pos_label):\n\u001b[1;32m-> 2531\u001b[0m     y_true \u001b[39m=\u001b[39m \u001b[39mself\u001b[39;49m\u001b[39m.\u001b[39;49my_binary(pos_label)\n\u001b[0;32m   2532\u001b[0m     y_pred \u001b[39m=\u001b[39m np\u001b[39m.\u001b[39mwhere(\u001b[39mself\u001b[39m\u001b[39m.\u001b[39mpred_probas(pos_label) \u001b[39m>\u001b[39m cutoff, \u001b[39m1\u001b[39m, \u001b[39m0\u001b[39m)\n\u001b[0;32m   2534\u001b[0m     metrics_dict \u001b[39m=\u001b[39m {\n\u001b[0;32m   2535\u001b[0m         \u001b[39m'\u001b[39m\u001b[39maccuracy\u001b[39m\u001b[39m'\u001b[39m : accuracy_score(y_true, y_pred),\n\u001b[0;32m   2536\u001b[0m         \u001b[39m'\u001b[39m\u001b[39mprecision\u001b[39m\u001b[39m'\u001b[39m : precision_score(y_true, y_pred, zero_division\u001b[39m=\u001b[39m\u001b[39m0\u001b[39m),\n\u001b[1;32m   (...)\u001b[0m\n\u001b[0;32m   2541\u001b[0m         \u001b[39m'\u001b[39m\u001b[39mlog_loss\u001b[39m\u001b[39m'\u001b[39m : log_loss(y_true, \u001b[39mself\u001b[39m\u001b[39m.\u001b[39mpred_probas(pos_label))\n\u001b[0;32m   2542\u001b[0m     }\n",
      "File \u001b[1;32mc:\\Users\\alex\\Desktop\\Experiments\\AutoKeras\\.venv\\lib\\site-packages\\explainerdashboard\\explainers.py:70\u001b[0m, in \u001b[0;36minsert_pos_label.<locals>.inner\u001b[1;34m(self, *args, **kwargs)\u001b[0m\n\u001b[0;32m     68\u001b[0m \u001b[39melse\u001b[39;00m:\n\u001b[0;32m     69\u001b[0m     kwargs\u001b[39m.\u001b[39mupdate(\u001b[39mdict\u001b[39m(pos_label\u001b[39m=\u001b[39m\u001b[39mself\u001b[39m\u001b[39m.\u001b[39mpos_label))   \n\u001b[1;32m---> 70\u001b[0m \u001b[39mreturn\u001b[39;00m func(\u001b[39mself\u001b[39m, \u001b[39m*\u001b[39m\u001b[39m*\u001b[39mkwargs)\n",
      "File \u001b[1;32mc:\\Users\\alex\\Desktop\\Experiments\\AutoKeras\\.venv\\lib\\site-packages\\explainerdashboard\\explainers.py:2040\u001b[0m, in \u001b[0;36mClassifierExplainer.y_binary\u001b[1;34m(self, pos_label)\u001b[0m\n\u001b[0;32m   2038\u001b[0m     \u001b[39melse\u001b[39;00m:\n\u001b[0;32m   2039\u001b[0m         \u001b[39mself\u001b[39m\u001b[39m.\u001b[39m_y_binaries \u001b[39m=\u001b[39m [\u001b[39mself\u001b[39m\u001b[39m.\u001b[39my\u001b[39m.\u001b[39mvalues \u001b[39mfor\u001b[39;00m i \u001b[39min\u001b[39;00m \u001b[39mrange\u001b[39m(\u001b[39mlen\u001b[39m(\u001b[39mself\u001b[39m\u001b[39m.\u001b[39mlabels))]\n\u001b[1;32m-> 2040\u001b[0m \u001b[39mreturn\u001b[39;00m \u001b[39mself\u001b[39;49m\u001b[39m.\u001b[39;49m_y_binaries[pos_label]\n",
      "\u001b[1;31mIndexError\u001b[0m: list index out of range"
     ]
    }
   ],
   "source": [
    "\n",
    "dashboard = ExplainerDashboard(ClassifierExplainer(wrapper, X_test, y_test, labels=enc.categories_[0].tolist()))"
   ]
  },
  {
   "cell_type": "code",
   "execution_count": null,
   "metadata": {},
   "outputs": [],
   "source": [
    "\n",
    "dashboard.save_html(\"./dashboard.html\")\n",
    "dashboard.explainer.dump(\"./dashboard.dill\")"
   ]
  },
  {
   "cell_type": "code",
   "execution_count": null,
   "metadata": {},
   "outputs": [],
   "source": [
    "dashboard = ExplainerDashboard(ClassifierExplainer.from_file(\"./dashboard.dill\"))"
   ]
  },
  {
   "cell_type": "code",
   "execution_count": 6,
   "metadata": {},
   "outputs": [
    {
     "name": "stdout",
     "output_type": "stream",
     "text": [
      "Starting ExplainerDashboard on http://192.168.1.193:8044\n",
      "Dash is running on http://0.0.0.0:8044/\n",
      "\n",
      "Dash is running on http://0.0.0.0:8044/\n",
      "\n",
      "Dash is running on http://0.0.0.0:8044/\n",
      "\n"
     ]
    },
    {
     "name": "stderr",
     "output_type": "stream",
     "text": [
      "INFO:explainerdashboard.dashboards:Dash is running on http://0.0.0.0:8044/\n",
      "\n"
     ]
    },
    {
     "name": "stdout",
     "output_type": "stream",
     "text": [
      " * Serving Flask app 'explainerdashboard.dashboards'\n",
      " * Debug mode: off\n"
     ]
    },
    {
     "name": "stderr",
     "output_type": "stream",
     "text": [
      "INFO:werkzeug:\u001b[31m\u001b[1mWARNING: This is a development server. Do not use it in a production deployment. Use a production WSGI server instead.\u001b[0m\n",
      " * Running on all addresses (0.0.0.0)\n",
      " * Running on http://127.0.0.1:8044\n",
      " * Running on http://192.168.1.193:8044\n",
      "INFO:werkzeug:\u001b[33mPress CTRL+C to quit\u001b[0m\n",
      "INFO:werkzeug:127.0.0.1 - - [18/Jan/2023 09:59:06] \"GET / HTTP/1.1\" 200 -\n",
      "INFO:werkzeug:127.0.0.1 - - [18/Jan/2023 09:59:06] \"GET /assets/bootstrap.min.css?m=1673978040.0432606 HTTP/1.1\" 200 -\n",
      "INFO:werkzeug:127.0.0.1 - - [18/Jan/2023 09:59:07] \"GET /_dash-component-suites/dash/deps/polyfill@7.v2_7_1m1673978037.12.1.min.js HTTP/1.1\" 200 -\n",
      "INFO:werkzeug:127.0.0.1 - - [18/Jan/2023 09:59:07] \"GET /_dash-component-suites/dash/deps/react-dom@16.v2_7_1m1673978037.14.0.min.js HTTP/1.1\" 200 -\n",
      "INFO:werkzeug:127.0.0.1 - - [18/Jan/2023 09:59:07] \"GET /_dash-component-suites/dash/deps/prop-types@15.v2_7_1m1673978037.8.1.min.js HTTP/1.1\" 200 -\n",
      "INFO:werkzeug:127.0.0.1 - - [18/Jan/2023 09:59:07] \"GET /_dash-component-suites/dash/deps/react@16.v2_7_1m1673978037.14.0.min.js HTTP/1.1\" 200 -\n",
      "INFO:werkzeug:127.0.0.1 - - [18/Jan/2023 09:59:07] \"GET /_dash-component-suites/dash_bootstrap_components/_components/dash_bootstrap_components.v1_3_0m1673978039.min.js HTTP/1.1\" 200 -\n",
      "INFO:werkzeug:127.0.0.1 - - [18/Jan/2023 09:59:07] \"GET /_dash-component-suites/dash/dash-renderer/build/dash_renderer.v2_7_1m1673978036.min.js HTTP/1.1\" 200 -\n",
      "INFO:werkzeug:127.0.0.1 - - [18/Jan/2023 09:59:07] \"GET /_dash-component-suites/dash/dcc/dash_core_components.v2_7_1m1673978037.js HTTP/1.1\" 200 -\n",
      "INFO:werkzeug:127.0.0.1 - - [18/Jan/2023 09:59:07] \"GET /_dash-component-suites/dash/dcc/dash_core_components-shared.v2_7_1m1673978037.js HTTP/1.1\" 200 -\n",
      "INFO:werkzeug:127.0.0.1 - - [18/Jan/2023 09:59:07] \"GET /_dash-component-suites/dash/dash_table/bundle.v5_2_1m1673978036.js HTTP/1.1\" 200 -\n",
      "INFO:werkzeug:127.0.0.1 - - [18/Jan/2023 09:59:07] \"GET /_dash-component-suites/dash/html/dash_html_components.v2_0_7m1673978037.min.js HTTP/1.1\" 200 -\n",
      "INFO:werkzeug:127.0.0.1 - - [18/Jan/2023 09:59:07] \"GET /_dash-layout HTTP/1.1\" 200 -\n",
      "INFO:werkzeug:127.0.0.1 - - [18/Jan/2023 09:59:07] \"GET /_dash-dependencies HTTP/1.1\" 200 -\n",
      "INFO:werkzeug:127.0.0.1 - - [18/Jan/2023 09:59:07] \"GET /assets/favicon.ico?m=1673978040.0442698 HTTP/1.1\" 200 -\n",
      "INFO:werkzeug:127.0.0.1 - - [18/Jan/2023 09:59:08] \"\u001b[35m\u001b[1mPOST /_dash-update-component HTTP/1.1\u001b[0m\" 204 -\n",
      "INFO:werkzeug:127.0.0.1 - - [18/Jan/2023 09:59:08] \"POST /_dash-update-component HTTP/1.1\" 200 -\n",
      "INFO:werkzeug:127.0.0.1 - - [18/Jan/2023 09:59:08] \"POST /_dash-update-component HTTP/1.1\" 200 -\n",
      "INFO:werkzeug:127.0.0.1 - - [18/Jan/2023 09:59:08] \"POST /_dash-update-component HTTP/1.1\" 200 -\n",
      "INFO:werkzeug:127.0.0.1 - - [18/Jan/2023 09:59:08] \"POST /_dash-update-component HTTP/1.1\" 200 -\n",
      "INFO:werkzeug:127.0.0.1 - - [18/Jan/2023 09:59:08] \"POST /_dash-update-component HTTP/1.1\" 200 -\n",
      "INFO:werkzeug:127.0.0.1 - - [18/Jan/2023 09:59:08] \"POST /_dash-update-component HTTP/1.1\" 200 -\n",
      "INFO:werkzeug:127.0.0.1 - - [18/Jan/2023 09:59:08] \"POST /_dash-update-component HTTP/1.1\" 200 -\n",
      "INFO:werkzeug:127.0.0.1 - - [18/Jan/2023 09:59:08] \"POST /_dash-update-component HTTP/1.1\" 200 -\n",
      "INFO:werkzeug:127.0.0.1 - - [18/Jan/2023 09:59:08] \"POST /_dash-update-component HTTP/1.1\" 200 -\n",
      "INFO:werkzeug:127.0.0.1 - - [18/Jan/2023 09:59:08] \"POST /_dash-update-component HTTP/1.1\" 200 -\n",
      "INFO:werkzeug:127.0.0.1 - - [18/Jan/2023 09:59:08] \"POST /_dash-update-component HTTP/1.1\" 200 -\n",
      "INFO:werkzeug:127.0.0.1 - - [18/Jan/2023 09:59:08] \"POST /_dash-update-component HTTP/1.1\" 200 -\n",
      "INFO:werkzeug:127.0.0.1 - - [18/Jan/2023 09:59:08] \"POST /_dash-update-component HTTP/1.1\" 200 -\n",
      "INFO:werkzeug:127.0.0.1 - - [18/Jan/2023 09:59:08] \"POST /_dash-update-component HTTP/1.1\" 200 -\n",
      "INFO:werkzeug:127.0.0.1 - - [18/Jan/2023 09:59:08] \"POST /_dash-update-component HTTP/1.1\" 200 -\n",
      "INFO:werkzeug:127.0.0.1 - - [18/Jan/2023 09:59:09] \"POST /_dash-update-component HTTP/1.1\" 200 -\n",
      "INFO:werkzeug:127.0.0.1 - - [18/Jan/2023 09:59:09] \"POST /_dash-update-component HTTP/1.1\" 200 -\n",
      "INFO:werkzeug:127.0.0.1 - - [18/Jan/2023 09:59:09] \"POST /_dash-update-component HTTP/1.1\" 200 -\n",
      "INFO:werkzeug:127.0.0.1 - - [18/Jan/2023 09:59:09] \"POST /_dash-update-component HTTP/1.1\" 200 -\n",
      "INFO:werkzeug:127.0.0.1 - - [18/Jan/2023 09:59:09] \"POST /_dash-update-component HTTP/1.1\" 200 -\n",
      "INFO:werkzeug:127.0.0.1 - - [18/Jan/2023 09:59:09] \"POST /_dash-update-component HTTP/1.1\" 200 -\n",
      "INFO:werkzeug:127.0.0.1 - - [18/Jan/2023 09:59:09] \"POST /_dash-update-component HTTP/1.1\" 200 -\n",
      "INFO:werkzeug:127.0.0.1 - - [18/Jan/2023 09:59:09] \"\u001b[35m\u001b[1mPOST /_dash-update-component HTTP/1.1\u001b[0m\" 204 -\n",
      "INFO:werkzeug:127.0.0.1 - - [18/Jan/2023 09:59:09] \"POST /_dash-update-component HTTP/1.1\" 200 -\n",
      "INFO:werkzeug:127.0.0.1 - - [18/Jan/2023 09:59:09] \"POST /_dash-update-component HTTP/1.1\" 200 -\n",
      "INFO:werkzeug:127.0.0.1 - - [18/Jan/2023 09:59:09] \"POST /_dash-update-component HTTP/1.1\" 200 -\n",
      "INFO:werkzeug:127.0.0.1 - - [18/Jan/2023 09:59:09] \"POST /_dash-update-component HTTP/1.1\" 200 -\n",
      "INFO:werkzeug:127.0.0.1 - - [18/Jan/2023 09:59:09] \"POST /_dash-update-component HTTP/1.1\" 200 -\n",
      "INFO:werkzeug:127.0.0.1 - - [18/Jan/2023 09:59:09] \"POST /_dash-update-component HTTP/1.1\" 200 -\n",
      "INFO:werkzeug:127.0.0.1 - - [18/Jan/2023 09:59:09] \"POST /_dash-update-component HTTP/1.1\" 200 -\n",
      "INFO:werkzeug:127.0.0.1 - - [18/Jan/2023 09:59:09] \"POST /_dash-update-component HTTP/1.1\" 200 -\n",
      "INFO:werkzeug:127.0.0.1 - - [18/Jan/2023 09:59:09] \"POST /_dash-update-component HTTP/1.1\" 200 -\n",
      "INFO:werkzeug:127.0.0.1 - - [18/Jan/2023 09:59:09] \"POST /_dash-update-component HTTP/1.1\" 200 -\n",
      "INFO:werkzeug:127.0.0.1 - - [18/Jan/2023 09:59:10] \"POST /_dash-update-component HTTP/1.1\" 200 -\n",
      "INFO:werkzeug:127.0.0.1 - - [18/Jan/2023 09:59:10] \"POST /_dash-update-component HTTP/1.1\" 200 -\n",
      "INFO:werkzeug:127.0.0.1 - - [18/Jan/2023 09:59:10] \"POST /_dash-update-component HTTP/1.1\" 200 -\n",
      "INFO:werkzeug:127.0.0.1 - - [18/Jan/2023 09:59:10] \"POST /_dash-update-component HTTP/1.1\" 200 -\n",
      "INFO:werkzeug:127.0.0.1 - - [18/Jan/2023 09:59:10] \"POST /_dash-update-component HTTP/1.1\" 200 -\n",
      "INFO:werkzeug:127.0.0.1 - - [18/Jan/2023 09:59:10] \"POST /_dash-update-component HTTP/1.1\" 200 -\n",
      "INFO:werkzeug:127.0.0.1 - - [18/Jan/2023 09:59:10] \"POST /_dash-update-component HTTP/1.1\" 200 -\n",
      "INFO:werkzeug:127.0.0.1 - - [18/Jan/2023 09:59:10] \"POST /_dash-update-component HTTP/1.1\" 200 -\n",
      "INFO:werkzeug:127.0.0.1 - - [18/Jan/2023 09:59:10] \"\u001b[35m\u001b[1mPOST /_dash-update-component HTTP/1.1\u001b[0m\" 204 -\n",
      "INFO:werkzeug:127.0.0.1 - - [18/Jan/2023 09:59:10] \"POST /_dash-update-component HTTP/1.1\" 200 -\n",
      "INFO:werkzeug:127.0.0.1 - - [18/Jan/2023 09:59:10] \"\u001b[35m\u001b[1mPOST /_dash-update-component HTTP/1.1\u001b[0m\" 204 -\n",
      "INFO:werkzeug:127.0.0.1 - - [18/Jan/2023 09:59:10] \"POST /_dash-update-component HTTP/1.1\" 200 -\n",
      "INFO:werkzeug:127.0.0.1 - - [18/Jan/2023 09:59:11] \"POST /_dash-update-component HTTP/1.1\" 200 -\n",
      "INFO:werkzeug:127.0.0.1 - - [18/Jan/2023 09:59:11] \"POST /_dash-update-component HTTP/1.1\" 200 -\n",
      "INFO:werkzeug:127.0.0.1 - - [18/Jan/2023 09:59:11] \"POST /_dash-update-component HTTP/1.1\" 200 -\n",
      "INFO:werkzeug:127.0.0.1 - - [18/Jan/2023 09:59:11] \"POST /_dash-update-component HTTP/1.1\" 200 -\n",
      "INFO:werkzeug:127.0.0.1 - - [18/Jan/2023 09:59:11] \"POST /_dash-update-component HTTP/1.1\" 200 -\n",
      "INFO:werkzeug:127.0.0.1 - - [18/Jan/2023 09:59:11] \"POST /_dash-update-component HTTP/1.1\" 200 -\n",
      "INFO:werkzeug:127.0.0.1 - - [18/Jan/2023 09:59:11] \"POST /_dash-update-component HTTP/1.1\" 200 -\n",
      "INFO:werkzeug:127.0.0.1 - - [18/Jan/2023 09:59:11] \"POST /_dash-update-component HTTP/1.1\" 200 -\n",
      "INFO:werkzeug:127.0.0.1 - - [18/Jan/2023 09:59:11] \"POST /_dash-update-component HTTP/1.1\" 200 -\n"
     ]
    },
    {
     "name": "stdout",
     "output_type": "stream",
     "text": [
      "1/1 [==============================] - 1s 718ms/step\n",
      "1/1 [==============================] - 1s 681ms/step\n",
      "1/1 [==============================] - 1s 676ms/step\n",
      "1/1 [==============================] - 1s 628ms/step\n",
      "1/1 [==============================] - 1s 666ms/step\n",
      "1/1 [==============================] - 1s 912ms/step\n"
     ]
    },
    {
     "name": "stderr",
     "output_type": "stream",
     "text": [
      "c:\\Users\\alex\\Desktop\\Experiments\\AutoKeras\\.venv\\lib\\site-packages\\explainerdashboard\\explainer_methods.py:791: FutureWarning:\n",
      "\n",
      "In a future version, `df.iloc[:, i] = newvals` will attempt to set the values inplace instead of always setting a new array. To retain the old behavior, use either `df[df.columns[i]] = newvals` or, if columns are non-unique, `df.isetitem(i, newvals)`\n",
      "\n"
     ]
    },
    {
     "name": "stdout",
     "output_type": "stream",
     "text": [
      "1/1 [==============================] - 1s 520ms/step\n"
     ]
    },
    {
     "name": "stderr",
     "output_type": "stream",
     "text": [
      "INFO:werkzeug:127.0.0.1 - - [18/Jan/2023 09:59:18] \"POST /_dash-update-component HTTP/1.1\" 200 -\n",
      "INFO:werkzeug:127.0.0.1 - - [18/Jan/2023 09:59:18] \"POST /_dash-update-component HTTP/1.1\" 200 -\n",
      "INFO:werkzeug:127.0.0.1 - - [18/Jan/2023 09:59:19] \"POST /_dash-update-component HTTP/1.1\" 200 -\n",
      "INFO:werkzeug:127.0.0.1 - - [18/Jan/2023 09:59:19] \"POST /_dash-update-component HTTP/1.1\" 200 -\n"
     ]
    },
    {
     "name": "stdout",
     "output_type": "stream",
     "text": [
      "1/1 [==============================] - 1s 648ms/step\n"
     ]
    },
    {
     "name": "stderr",
     "output_type": "stream",
     "text": [
      "INFO:werkzeug:127.0.0.1 - - [18/Jan/2023 09:59:19] \"POST /_dash-update-component HTTP/1.1\" 200 -\n"
     ]
    },
    {
     "name": "stdout",
     "output_type": "stream",
     "text": [
      "  7/143 [>.............................] - ETA: 1s  "
     ]
    },
    {
     "name": "stderr",
     "output_type": "stream",
     "text": [
      "INFO:werkzeug:127.0.0.1 - - [18/Jan/2023 09:59:20] \"POST /_dash-update-component HTTP/1.1\" 200 -\n"
     ]
    },
    {
     "name": "stdout",
     "output_type": "stream",
     "text": [
      " 53/143 [==========>...................] - ETA: 0s"
     ]
    },
    {
     "name": "stderr",
     "output_type": "stream",
     "text": [
      "INFO:werkzeug:127.0.0.1 - - [18/Jan/2023 09:59:20] \"GET /_dash-component-suites/dash/dcc/async-dropdown.js HTTP/1.1\" 200 -\n",
      "INFO:werkzeug:127.0.0.1 - - [18/Jan/2023 09:59:20] \"GET /_dash-component-suites/dash/dcc/async-graph.js HTTP/1.1\" 200 -\n"
     ]
    },
    {
     "name": "stdout",
     "output_type": "stream",
     "text": [
      "1/1 [==============================] - 0s 387ms/step\n",
      "103/143 [====================>.........] - ETA: 0s"
     ]
    },
    {
     "name": "stderr",
     "output_type": "stream",
     "text": [
      "INFO:werkzeug:127.0.0.1 - - [18/Jan/2023 09:59:20] \"GET /_dash-component-suites/dash/dcc/async-plotlyjs.js HTTP/1.1\" 200 -\n"
     ]
    },
    {
     "name": "stdout",
     "output_type": "stream",
     "text": [
      "143/143 [==============================] - 2s 9ms/step\n"
     ]
    },
    {
     "name": "stderr",
     "output_type": "stream",
     "text": [
      "INFO:werkzeug:127.0.0.1 - - [18/Jan/2023 09:59:21] \"POST /_dash-update-component HTTP/1.1\" 200 -\n"
     ]
    },
    {
     "name": "stdout",
     "output_type": "stream",
     "text": [
      "1/1 [==============================] - 0s 348ms/step\n"
     ]
    },
    {
     "name": "stderr",
     "output_type": "stream",
     "text": [
      "c:\\Users\\alex\\Desktop\\Experiments\\AutoKeras\\.venv\\lib\\site-packages\\explainerdashboard\\explainer_methods.py:791: FutureWarning:\n",
      "\n",
      "In a future version, `df.iloc[:, i] = newvals` will attempt to set the values inplace instead of always setting a new array. To retain the old behavior, use either `df[df.columns[i]] = newvals` or, if columns are non-unique, `df.isetitem(i, newvals)`\n",
      "\n",
      "INFO:werkzeug:127.0.0.1 - - [18/Jan/2023 09:59:22] \"POST /_dash-update-component HTTP/1.1\" 200 -\n"
     ]
    },
    {
     "name": "stdout",
     "output_type": "stream",
     "text": [
      "1/1 [==============================] - 1s 520ms/step\n",
      "1/1 [==============================] - 0s 441ms/step\n",
      "1/1 [==============================] - 0s 433ms/step\n",
      "1/1 [==============================] - 0s 383ms/step\n"
     ]
    },
    {
     "name": "stderr",
     "output_type": "stream",
     "text": [
      "c:\\Users\\alex\\Desktop\\Experiments\\AutoKeras\\.venv\\lib\\site-packages\\explainerdashboard\\explainer_methods.py:791: FutureWarning:\n",
      "\n",
      "In a future version, `df.iloc[:, i] = newvals` will attempt to set the values inplace instead of always setting a new array. To retain the old behavior, use either `df[df.columns[i]] = newvals` or, if columns are non-unique, `df.isetitem(i, newvals)`\n",
      "\n",
      "INFO:werkzeug:127.0.0.1 - - [18/Jan/2023 09:59:25] \"POST /_dash-update-component HTTP/1.1\" 200 -\n"
     ]
    },
    {
     "name": "stdout",
     "output_type": "stream",
     "text": [
      "1/1 [==============================] - 0s 422ms/step\n"
     ]
    },
    {
     "name": "stderr",
     "output_type": "stream",
     "text": [
      "c:\\Users\\alex\\Desktop\\Experiments\\AutoKeras\\.venv\\lib\\site-packages\\explainerdashboard\\explainer_methods.py:791: FutureWarning:\n",
      "\n",
      "In a future version, `df.iloc[:, i] = newvals` will attempt to set the values inplace instead of always setting a new array. To retain the old behavior, use either `df[df.columns[i]] = newvals` or, if columns are non-unique, `df.isetitem(i, newvals)`\n",
      "\n"
     ]
    },
    {
     "name": "stdout",
     "output_type": "stream",
     "text": [
      "1/1 [==============================] - 0s 449ms/step\n",
      "138/143 [===========================>..] - ETA: 0s"
     ]
    },
    {
     "name": "stderr",
     "output_type": "stream",
     "text": [
      "INFO:werkzeug:127.0.0.1 - - [18/Jan/2023 09:59:29] \"GET /_dash-component-suites/dash/dcc/async-slider.js HTTP/1.1\" 200 -\n"
     ]
    },
    {
     "name": "stdout",
     "output_type": "stream",
     "text": [
      "143/143 [==============================] - 2s 10ms/step\n",
      "1/1 [==============================] - 0s 300ms/step\n",
      "1/1 [==============================] - 0s 343ms/step\n"
     ]
    },
    {
     "name": "stderr",
     "output_type": "stream",
     "text": [
      "c:\\Users\\alex\\Desktop\\Experiments\\AutoKeras\\.venv\\lib\\site-packages\\explainerdashboard\\explainer_methods.py:791: FutureWarning:\n",
      "\n",
      "In a future version, `df.iloc[:, i] = newvals` will attempt to set the values inplace instead of always setting a new array. To retain the old behavior, use either `df[df.columns[i]] = newvals` or, if columns are non-unique, `df.isetitem(i, newvals)`\n",
      "\n",
      "INFO:werkzeug:127.0.0.1 - - [18/Jan/2023 09:59:29] \"POST /_dash-update-component HTTP/1.1\" 200 -\n"
     ]
    },
    {
     "name": "stdout",
     "output_type": "stream",
     "text": [
      "1/1 [==============================] - 0s 138ms/step\n"
     ]
    },
    {
     "name": "stderr",
     "output_type": "stream",
     "text": [
      "c:\\Users\\alex\\Desktop\\Experiments\\AutoKeras\\.venv\\lib\\site-packages\\explainerdashboard\\explainer_methods.py:791: FutureWarning:\n",
      "\n",
      "In a future version, `df.iloc[:, i] = newvals` will attempt to set the values inplace instead of always setting a new array. To retain the old behavior, use either `df[df.columns[i]] = newvals` or, if columns are non-unique, `df.isetitem(i, newvals)`\n",
      "\n"
     ]
    },
    {
     "name": "stdout",
     "output_type": "stream",
     "text": [
      "1/1 [==============================] - 0s 252ms/step\n"
     ]
    },
    {
     "name": "stderr",
     "output_type": "stream",
     "text": [
      "c:\\Users\\alex\\Desktop\\Experiments\\AutoKeras\\.venv\\lib\\site-packages\\explainerdashboard\\explainer_methods.py:791: FutureWarning:\n",
      "\n",
      "In a future version, `df.iloc[:, i] = newvals` will attempt to set the values inplace instead of always setting a new array. To retain the old behavior, use either `df[df.columns[i]] = newvals` or, if columns are non-unique, `df.isetitem(i, newvals)`\n",
      "\n"
     ]
    },
    {
     "name": "stdout",
     "output_type": "stream",
     "text": [
      "1/1 [==============================] - 0s 262ms/step\n",
      "1/1 [==============================] - 0s 217ms/step\n",
      "1/1 [==============================] - 0s 204ms/step\n",
      "1/1 [==============================] - 0s 210ms/step\n",
      "1/1 [==============================] - 0s 227ms/step\n"
     ]
    },
    {
     "name": "stderr",
     "output_type": "stream",
     "text": [
      "c:\\Users\\alex\\Desktop\\Experiments\\AutoKeras\\.venv\\lib\\site-packages\\explainerdashboard\\explainer_methods.py:791: FutureWarning:\n",
      "\n",
      "In a future version, `df.iloc[:, i] = newvals` will attempt to set the values inplace instead of always setting a new array. To retain the old behavior, use either `df[df.columns[i]] = newvals` or, if columns are non-unique, `df.isetitem(i, newvals)`\n",
      "\n",
      "c:\\Users\\alex\\Desktop\\Experiments\\AutoKeras\\.venv\\lib\\site-packages\\explainerdashboard\\explainer_methods.py:791: FutureWarning:\n",
      "\n",
      "In a future version, `df.iloc[:, i] = newvals` will attempt to set the values inplace instead of always setting a new array. To retain the old behavior, use either `df[df.columns[i]] = newvals` or, if columns are non-unique, `df.isetitem(i, newvals)`\n",
      "\n"
     ]
    },
    {
     "name": "stdout",
     "output_type": "stream",
     "text": [
      "1/1 [==============================] - 0s 199ms/step\n",
      "1/1 [==============================] - 0s 185ms/step\n"
     ]
    },
    {
     "name": "stderr",
     "output_type": "stream",
     "text": [
      "c:\\Users\\alex\\Desktop\\Experiments\\AutoKeras\\.venv\\lib\\site-packages\\explainerdashboard\\explainer_methods.py:791: FutureWarning:\n",
      "\n",
      "In a future version, `df.iloc[:, i] = newvals` will attempt to set the values inplace instead of always setting a new array. To retain the old behavior, use either `df[df.columns[i]] = newvals` or, if columns are non-unique, `df.isetitem(i, newvals)`\n",
      "\n"
     ]
    },
    {
     "name": "stdout",
     "output_type": "stream",
     "text": [
      "1/1 [==============================] - 0s 208ms/step\n"
     ]
    },
    {
     "name": "stderr",
     "output_type": "stream",
     "text": [
      "INFO:werkzeug:127.0.0.1 - - [18/Jan/2023 09:59:38] \"POST /_dash-update-component HTTP/1.1\" 200 -\n"
     ]
    },
    {
     "name": "stdout",
     "output_type": "stream",
     "text": [
      "1/1 [==============================] - 0s 247ms/step\n",
      "1/1 [==============================] - 0s 118ms/step\n",
      "1/1 [==============================] - 0s 115ms/step\n"
     ]
    },
    {
     "name": "stderr",
     "output_type": "stream",
     "text": [
      "c:\\Users\\alex\\Desktop\\Experiments\\AutoKeras\\.venv\\lib\\site-packages\\explainerdashboard\\explainer_methods.py:791: FutureWarning:\n",
      "\n",
      "In a future version, `df.iloc[:, i] = newvals` will attempt to set the values inplace instead of always setting a new array. To retain the old behavior, use either `df[df.columns[i]] = newvals` or, if columns are non-unique, `df.isetitem(i, newvals)`\n",
      "\n"
     ]
    },
    {
     "name": "stdout",
     "output_type": "stream",
     "text": [
      "1/1 [==============================] - 0s 128ms/step\n",
      "1/1 [==============================] - 0s 125ms/step\n"
     ]
    },
    {
     "name": "stderr",
     "output_type": "stream",
     "text": [
      "INFO:werkzeug:127.0.0.1 - - [18/Jan/2023 09:59:42] \"POST /_dash-update-component HTTP/1.1\" 200 -\n"
     ]
    }
   ],
   "source": [
    "dashboard.run(8044)"
   ]
  }
 ],
 "metadata": {
  "kernelspec": {
   "display_name": "Python 3.9.12 ('.venv': venv)",
   "language": "python",
   "name": "python3"
  },
  "language_info": {
   "codemirror_mode": {
    "name": "ipython",
    "version": 3
   },
   "file_extension": ".py",
   "mimetype": "text/x-python",
   "name": "python",
   "nbconvert_exporter": "python",
   "pygments_lexer": "ipython3",
   "version": "3.9.12"
  },
  "orig_nbformat": 4,
  "vscode": {
   "interpreter": {
    "hash": "a57e2eecfb532ab7169a78607f6b86f46de6e184f027ba0e8517d95b791a7f1d"
   }
  }
 },
 "nbformat": 4,
 "nbformat_minor": 2
}
